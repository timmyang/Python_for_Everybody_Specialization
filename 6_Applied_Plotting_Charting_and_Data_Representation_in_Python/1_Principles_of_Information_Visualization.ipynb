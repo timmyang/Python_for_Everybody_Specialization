{
 "cells": [
  {
   "cell_type": "markdown",
   "metadata": {},
   "source": [
    "### Chapter 1 - Principles of Information Visualization\n",
    "\n",
    "# Table of Contents\n",
    "\n",
    "1.1 \n",
    "\n",
    "- \n",
    "\n",
    "\n",
    "# 1.1 \n",
    "\n",
    "## 1. Merging DataFrames"
   ]
  }
 ],
 "metadata": {
  "kernelspec": {
   "display_name": "Python 3",
   "language": "python",
   "name": "python3"
  },
  "language_info": {
   "codemirror_mode": {
    "name": "ipython",
    "version": 3
   },
   "file_extension": ".py",
   "mimetype": "text/x-python",
   "name": "python",
   "nbconvert_exporter": "python",
   "pygments_lexer": "ipython3",
   "version": "3.7.4"
  }
 },
 "nbformat": 4,
 "nbformat_minor": 2
}
