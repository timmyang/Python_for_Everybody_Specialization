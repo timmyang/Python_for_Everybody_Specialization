{
 "cells": [
  {
   "cell_type": "markdown",
   "metadata": {},
   "source": [
    "### Chapter 13 - Web Services and XML\n",
    "\n",
    "# Table of Contents\n",
    "\n",
    "13.1 Data on the Web\n",
    "\n",
    "13.2 eXtensible Markup Language (XML)\n",
    "\n",
    "13.3 XML Schema\n",
    "\n",
    "13.4 Parsing XML\n",
    "\n",
    "Quiz 13 \n",
    "\n",
    "Assignment 13\n",
    "\n",
    "\n",
    "# 13.1 Data on the Web\n",
    "\n",
    "- A need to exchange data between programs using protocals\n",
    "- XML/JSON\n",
    "  - Two common agreed on intermediate protocols (\"Wire Format\")\n",
    "  \n",
    "  \n",
    "\n",
    "# 13.2 eXtensible Markup Language (XML)\n",
    "\n",
    "\n",
    "## 1. XML \"Elements\" (or Nodes)\n",
    "\n",
    "- Simple Element\n",
    "- Complex Element\n",
    "\n",
    "## 2. XML Basics\n",
    "\n",
    "- Start tag\n",
    "- End tag\n",
    "- Text content\n",
    "- Attribute\n",
    "- Self closing tag\n",
    "\n",
    "## 3. XML Terminology\n",
    "\n",
    "- Tags\n",
    "  - indicate the beginning and ending of elements\n",
    "- Attributes \n",
    "  - keyword/value pairs on the opening tag of XML\n",
    "- Serialize / De-Serialize\n",
    "  - convert data in one program into a common format that can be stored and/or transmitted between systems in a programming language-independnet manner\n",
    "\n",
    "## 4. White Space\n",
    "\n",
    "- Line ends do not matter\n",
    "- White space is generally discarded on text elements\n",
    "- We indent only to be readable\n",
    "\n",
    "\n",
    "\n",
    "# 13.3 XML Schema\n",
    "\n",
    "- Describing a **\"contract\"** as to what is acceptable XML\n",
    "\n",
    "\n",
    "# 13.4 Parsing XML"
   ]
  },
  {
   "cell_type": "code",
   "execution_count": 1,
   "metadata": {},
   "outputs": [
    {
     "name": "stdout",
     "output_type": "stream",
     "text": [
      "Name: Chuck\n",
      "Attr: yes\n"
     ]
    }
   ],
   "source": [
    "import xml.etree.ElementTree as ET\n",
    "\n",
    "data = '''<person>\n",
    "  <name>Chuck</name>\n",
    "  <phone type = \"int1\">\n",
    "    +1 734 303 4456\n",
    "   </phone>\n",
    "   <email hide = \"yes\"/>\n",
    "</person>'''\n",
    "\n",
    "tree = ET.fromstring(data)\n",
    "\n",
    "print('Name:', tree.find('name').text)\n",
    "print('Attr:', tree.find('email').get('hide'))"
   ]
  },
  {
   "cell_type": "code",
   "execution_count": 13,
   "metadata": {},
   "outputs": [
    {
     "name": "stdout",
     "output_type": "stream",
     "text": [
      "User count: 2\n",
      "--\n",
      "Name: Chuck\n",
      "Id: 001\n",
      "Attribute: 2\n",
      "--\n",
      "Name: Brent\n",
      "Id: 009\n",
      "Attribute: 7\n",
      "--\n"
     ]
    }
   ],
   "source": [
    "input = '''\n",
    "<stuff>\n",
    "    <users>\n",
    "        <user x = \"2\">\n",
    "            <id>001</id>\n",
    "            <name>Chuck</name>\n",
    "        </user>\n",
    "        <user x = \"7\">\n",
    "            <id>009</id>\n",
    "            <name>Brent</name>\n",
    "        </user>\n",
    "    </users>\n",
    "</stuff>'''\n",
    "\n",
    "stuff = ET.fromstring(input)\n",
    "lst = stuff.findall('users/user')\n",
    "\n",
    "print('User count:', len(lst))\n",
    "print('--')\n",
    "\n",
    "for item in lst :\n",
    "    print('Name:', item.find('name').text)\n",
    "    print('Id:', item.find('id').text)\n",
    "    print('Attribute:', item.get(\"x\"))\n",
    "    print('--')"
   ]
  },
  {
   "cell_type": "markdown",
   "metadata": {},
   "source": [
    "# Quiz 13\n",
    "\n",
    "#### 1. What is the name of the Python 2.x library to parse XML data?\n",
    "\n",
    "xml.etree.ElementTree\n",
    "\n",
    "#### 2. Which of the following are **not** commonly used serialization formats?\n",
    "\n",
    "Dictionaries, HTTP, TCP\n",
    "\n",
    "#### 3. In this XML, which are the \"simple elements\"?"
   ]
  },
  {
   "cell_type": "code",
   "execution_count": 15,
   "metadata": {},
   "outputs": [],
   "source": [
    "# <people>\n",
    "#     <person>\n",
    "#         <name>Chuck</name>\n",
    "#         <phone>303 4456</phone>\n",
    "#     </person>\n",
    "#     <person>\n",
    "#         <name>Noah</name>\n",
    "#         <phone>622 7421</phone>\n",
    "#     </person>\n",
    "# </people>"
   ]
  },
  {
   "cell_type": "markdown",
   "metadata": {},
   "source": [
    "name, phone\n",
    "\n",
    "#### 4. In the following XML, which are attributes?"
   ]
  },
  {
   "cell_type": "code",
   "execution_count": null,
   "metadata": {},
   "outputs": [],
   "source": [
    "# <person>\n",
    "#     <name>Chuck</name>\n",
    "#     <phone type = \"int1\">\n",
    "#         +1 734 303 4456\n",
    "#     </phone>\n",
    "#     <email hide = \"yes\"/>\n",
    "# </person>"
   ]
  },
  {
   "cell_type": "markdown",
   "metadata": {},
   "source": [
    "type, hide\n",
    "\n",
    "#### 5. In the following XML, which node is the parent node of node e?"
   ]
  },
  {
   "cell_type": "code",
   "execution_count": null,
   "metadata": {},
   "outputs": [],
   "source": [
    "# <a>\n",
    "#     <b>X</b>\n",
    "#     <c>\n",
    "#         <d>Y</d>\n",
    "#         <e>Z</e>\n",
    "#     </c>\n",
    "# </a>"
   ]
  },
  {
   "cell_type": "markdown",
   "metadata": {},
   "source": [
    "c\n",
    "\n",
    "#### 6. Looking at the following XML, what text value would we find at path \"/a/c/e\"?"
   ]
  },
  {
   "cell_type": "code",
   "execution_count": 16,
   "metadata": {},
   "outputs": [],
   "source": [
    "# <a>\n",
    "#     <b>X</b>\n",
    "#     <c>\n",
    "#         <d>Y</d>\n",
    "#         <e>Z</e>\n",
    "#     </c>\n",
    "# </a>"
   ]
  },
  {
   "cell_type": "markdown",
   "metadata": {},
   "source": [
    "Z\n",
    "\n",
    "#### 7. What is the purpose of XML Schema?\n",
    "\n",
    "To establish a contract as to what is valid XML\n",
    "\n",
    "#### 8. For this XML Schema:"
   ]
  },
  {
   "cell_type": "code",
   "execution_count": 18,
   "metadata": {},
   "outputs": [],
   "source": [
    "# <xs:complexType name = \"person\">\n",
    "#     <xs:sequence>\n",
    "#         <xs:element name = \"lastname\" type = \"xs:string\"/>\n",
    "#         <xs:element name = \"age\"      type = \"xs:integer\"/>\n",
    "#         <xs:element name = \"dateborn\" type = \"xs:date\"/>\n",
    "#     <xs:sequence>\n",
    "# </xs:complexType>"
   ]
  },
  {
   "cell_type": "markdown",
   "metadata": {},
   "source": [
    "And this XML,"
   ]
  },
  {
   "cell_type": "code",
   "execution_count": 20,
   "metadata": {},
   "outputs": [],
   "source": [
    "# <person>\n",
    "#     <lastname>Severance</lastname>\n",
    "#     <Age>17</Age>\n",
    "#     <dateborn>2001-04-17</dateborn>\n",
    "# </person>"
   ]
  },
  {
   "cell_type": "markdown",
   "metadata": {},
   "source": [
    "Which tag is incorrect?\n",
    "\n",
    "Age\n",
    "\n",
    "#### 9. What is a good time zone to use when computers are exchanging data over APIs?\n",
    "\n",
    "Universal Time / GMT\n",
    "\n",
    "#### 10. Which of the following dates is in ISO 8601 format?\n",
    "\n",
    "2021-02-25 T01:04:51+00:0"
   ]
  },
  {
   "cell_type": "markdown",
   "metadata": {},
   "source": [
    "# Assignment 13\n",
    "\n",
    "Welcome Tim Yang from Using Python to Access Web Data\n",
    "\n",
    "**Extracting Data from XML**\n",
    "\n",
    "In this assignment you will write a Python program somewhat similar to http://www.py4e.com/code3/geoxml.py. The program will prompt for a URL, read the XML data from that URL using **urllib** and then parse and extract the comment counts from the XML data, compute the sum of the numbers in the file.\n",
    "\n",
    "We provide two files for this assignment. One is a sample file where we give you the sum for your testing and the other is the actual data you need to process for the assignment.\n",
    "\n",
    "- Sample data: http://py4e-data.dr-chuck.net/comments_42.xml (Sum=2553)\n",
    "- Actual data: http://py4e-data.dr-chuck.net/comments_1129404.xml (Sum ends with 56)\n",
    "\n",
    "You do not need to save these files to your folder since your program will read the data directly from the URL. **Note:** Each student will have a distinct data url for the assignment - so only use your own data url for analysis.\n",
    "\n",
    "**Data Format and Approach**\n",
    "\n",
    "The data consists of a number of names and comment counts in XML as follows:"
   ]
  },
  {
   "cell_type": "code",
   "execution_count": 21,
   "metadata": {},
   "outputs": [],
   "source": [
    "#  <comment>\n",
    "#     <name>Matthias</name>\n",
    "#     <count>97</count>\n",
    "#  </comment>"
   ]
  },
  {
   "cell_type": "markdown",
   "metadata": {},
   "source": [
    "You are to look through all the <comment> tags and find the <count> values sum the numbers. The closest sample code that shows how to parse XML is geoxml.py. But since the nesting of the elements in our data is different than the data we are parsing in that sample code you will have to make real changes to the code.\n",
    "    \n",
    "To make the code a little simpler, you can use an XPath selector string to look through the entire tree of XML for any tag named 'count' with the following line of code:"
   ]
  },
  {
   "cell_type": "code",
   "execution_count": 22,
   "metadata": {},
   "outputs": [],
   "source": [
    "counts = tree.findall('.//count')"
   ]
  },
  {
   "cell_type": "markdown",
   "metadata": {},
   "source": [
    "Take a look at the Python ElementTree documentation and look for the supported XPath syntax for details. You could also work from the top of the XML down to the comments node and then loop through the child nodes of the comments node.\n",
    "\n",
    "**Sample Execution**\n",
    "\n",
    "$ python3 solution.py  \n",
    "Enter location: http://py4e-data.dr-chuck.net/comments_42.xml  \n",
    "Retrieving http://py4e-data.dr-chuck.net/comments_42.xml  \n",
    "Retrieved 4189 characters   \n",
    "Count: 50  \n",
    "Sum: 2...  \n",
    "\n",
    "**Turning in the Assignment**\n",
    "\n",
    "Enter the sum from the actual data and your Python code below:"
   ]
  },
  {
   "cell_type": "code",
   "execution_count": 21,
   "metadata": {},
   "outputs": [
    {
     "name": "stdout",
     "output_type": "stream",
     "text": [
      "Enter location: http://py4e-data.dr-chuck.net/comments_1129404.xml \n",
      "Retrieving http://py4e-data.dr-chuck.net/comments_1129404.xml \n",
      "Retrieved 4231 characters\n",
      "Count: 50\n",
      "Sum: 2856\n"
     ]
    }
   ],
   "source": [
    "import urllib.request, urllib.parse, urllib.error\n",
    "import xml.etree.ElementTree as ET\n",
    "import re\n",
    "\n",
    "sum = 0\n",
    "c = 0\n",
    "\n",
    "address = input('Enter location: ')               # http://py4e-data.dr-chuck.net/comments_1129404.xml \n",
    "uh = urllib.request.urlopen(address)\n",
    "data = uh.read()\n",
    "tree = ET.fromstring(data)\n",
    "\n",
    "print('Retrieving', address)\n",
    "print('Retrieved', len(list(data)), 'characters')\n",
    "\n",
    "for count in tree.findall('comments/comment'):\n",
    "    rank = int(count.find('count').text)\n",
    "    sum = sum + rank\n",
    "    c = c + 1\n",
    "\n",
    "print('Count:', c)\n",
    "print('Sum:', sum)"
   ]
  }
 ],
 "metadata": {
  "kernelspec": {
   "display_name": "Python 3",
   "language": "python",
   "name": "python3"
  },
  "language_info": {
   "codemirror_mode": {
    "name": "ipython",
    "version": 3
   },
   "file_extension": ".py",
   "mimetype": "text/x-python",
   "name": "python",
   "nbconvert_exporter": "python",
   "pygments_lexer": "ipython3",
   "version": "3.7.4"
  }
 },
 "nbformat": 4,
 "nbformat_minor": 2
}
