{
 "cells": [
  {
   "cell_type": "markdown",
   "metadata": {},
   "source": [
    "### Chapter 11 - Regular Expressions\n",
    "\n",
    "# Table of Contents\n",
    "\n",
    "11.1 Regular Expressions\n",
    "\n",
    "11.2 Extracting Data\n",
    "\n",
    "Quiz 11\n",
    "\n",
    "Assignment 11"
   ]
  },
  {
   "cell_type": "markdown",
   "metadata": {},
   "source": [
    "# 11.1 Regular Expressions\n",
    "\n",
    "## 1. Regular Expressions\n",
    "\n",
    "- provides a concise and flexible means for matching strings of text, such as particular characters, words, or patterns of characters\n",
    "- is written in a formal language that can be interpreted by a regular expression processor\n",
    "\n",
    "## 2. The Regular Expression Module\n",
    "\n",
    "- Before you can use regular expressions in your program, you must import the library using \"import re\"\n",
    "- You can use re.search() to see if a string matches a regular expression, similar to using the **find()** method for strings\n",
    "- You can use **re.findall()** to extract portions of a string that match your regular expression, similar to a combination of **find()** and slicing: **var[5:10]**\n",
    "\n",
    "## 3. Using re.search() Like find()"
   ]
  },
  {
   "cell_type": "code",
   "execution_count": 7,
   "metadata": {},
   "outputs": [
    {
     "name": "stdout",
     "output_type": "stream",
     "text": [
      "From: stephen.marquard@uct.ac.za\\\n",
      "From: louis@media.berkeley.edu\\\n",
      "From: zqian@umich.edu\\\n",
      "From: rjlowe@iupui.edu\\\n",
      "From: zqian@umich.edu\\\n",
      "From: rjlowe@iupui.edu\\\n",
      "From: cwen@iupui.edu\\\n",
      "From: cwen@iupui.edu\\\n",
      "From: gsilver@umich.edu\\\n",
      "From: gsilver@umich.edu\\\n",
      "From: zqian@umich.edu\\\n",
      "From: gsilver@umich.edu\\\n",
      "From: wagnermr@iupui.edu\\\n",
      "From: zqian@umich.edu\\\n",
      "From: antranig@caret.cam.ac.uk\\\n",
      "From: gopal.ramasammycook@gmail.com\\\n",
      "From: david.horwitz@uct.ac.za\\\n",
      "From: david.horwitz@uct.ac.za\\\n",
      "From: david.horwitz@uct.ac.za\\\n",
      "From: david.horwitz@uct.ac.za\\\n",
      "From: stephen.marquard@uct.ac.za\\\n",
      "From: louis@media.berkeley.edu\\\n",
      "From: louis@media.berkeley.edu\\\n",
      "From: ray@media.berkeley.edu\\\n",
      "From: cwen@iupui.edu\\\n",
      "From: cwen@iupui.edu\\\n",
      "From: cwen@iupui.edu\\\n"
     ]
    }
   ],
   "source": [
    "hand = open('mbox-short.rtf')\n",
    "\n",
    "for line in hand :\n",
    "    line = line.rstrip()\n",
    "    \n",
    "    if line.find(\"From: \") >= 0 :\n",
    "        print(line)"
   ]
  },
  {
   "cell_type": "code",
   "execution_count": 9,
   "metadata": {},
   "outputs": [
    {
     "name": "stdout",
     "output_type": "stream",
     "text": [
      "From: stephen.marquard@uct.ac.za\\\n",
      "From: louis@media.berkeley.edu\\\n",
      "From: zqian@umich.edu\\\n",
      "From: rjlowe@iupui.edu\\\n",
      "From: zqian@umich.edu\\\n",
      "From: rjlowe@iupui.edu\\\n",
      "From: cwen@iupui.edu\\\n",
      "From: cwen@iupui.edu\\\n",
      "From: gsilver@umich.edu\\\n",
      "From: gsilver@umich.edu\\\n",
      "From: zqian@umich.edu\\\n",
      "From: gsilver@umich.edu\\\n",
      "From: wagnermr@iupui.edu\\\n",
      "From: zqian@umich.edu\\\n",
      "From: antranig@caret.cam.ac.uk\\\n",
      "From: gopal.ramasammycook@gmail.com\\\n",
      "From: david.horwitz@uct.ac.za\\\n",
      "From: david.horwitz@uct.ac.za\\\n",
      "From: david.horwitz@uct.ac.za\\\n",
      "From: david.horwitz@uct.ac.za\\\n",
      "From: stephen.marquard@uct.ac.za\\\n",
      "From: louis@media.berkeley.edu\\\n",
      "From: louis@media.berkeley.edu\\\n",
      "From: ray@media.berkeley.edu\\\n",
      "From: cwen@iupui.edu\\\n",
      "From: cwen@iupui.edu\\\n",
      "From: cwen@iupui.edu\\\n"
     ]
    }
   ],
   "source": [
    "import re\n",
    "\n",
    "hand = open('mbox-short.rtf')\n",
    "\n",
    "for line in hand :\n",
    "    line = line.rstrip()\n",
    "    \n",
    "    if re.search(\"From: \", line) :\n",
    "        print(line)"
   ]
  },
  {
   "cell_type": "markdown",
   "metadata": {},
   "source": [
    "## 4. Using re.search() Like startswith()"
   ]
  },
  {
   "cell_type": "code",
   "execution_count": 11,
   "metadata": {},
   "outputs": [
    {
     "name": "stdout",
     "output_type": "stream",
     "text": [
      "From: stephen.marquard@uct.ac.za\\\n",
      "From: louis@media.berkeley.edu\\\n",
      "From: zqian@umich.edu\\\n",
      "From: rjlowe@iupui.edu\\\n",
      "From: zqian@umich.edu\\\n",
      "From: rjlowe@iupui.edu\\\n",
      "From: cwen@iupui.edu\\\n",
      "From: cwen@iupui.edu\\\n",
      "From: gsilver@umich.edu\\\n",
      "From: gsilver@umich.edu\\\n",
      "From: zqian@umich.edu\\\n",
      "From: gsilver@umich.edu\\\n",
      "From: wagnermr@iupui.edu\\\n",
      "From: zqian@umich.edu\\\n",
      "From: antranig@caret.cam.ac.uk\\\n",
      "From: gopal.ramasammycook@gmail.com\\\n",
      "From: david.horwitz@uct.ac.za\\\n",
      "From: david.horwitz@uct.ac.za\\\n",
      "From: david.horwitz@uct.ac.za\\\n",
      "From: david.horwitz@uct.ac.za\\\n",
      "From: stephen.marquard@uct.ac.za\\\n",
      "From: louis@media.berkeley.edu\\\n",
      "From: louis@media.berkeley.edu\\\n",
      "From: ray@media.berkeley.edu\\\n",
      "From: cwen@iupui.edu\\\n",
      "From: cwen@iupui.edu\\\n",
      "From: cwen@iupui.edu\\\n"
     ]
    }
   ],
   "source": [
    "hand = open('mbox-short.rtf')\n",
    "\n",
    "for line in hand :\n",
    "    line = line.rstrip()\n",
    "    \n",
    "    if line.startswith(\"From: \"):\n",
    "        print(line)"
   ]
  },
  {
   "cell_type": "code",
   "execution_count": 13,
   "metadata": {},
   "outputs": [
    {
     "name": "stdout",
     "output_type": "stream",
     "text": [
      "From: stephen.marquard@uct.ac.za\\\n",
      "From: louis@media.berkeley.edu\\\n",
      "From: zqian@umich.edu\\\n",
      "From: rjlowe@iupui.edu\\\n",
      "From: zqian@umich.edu\\\n",
      "From: rjlowe@iupui.edu\\\n",
      "From: cwen@iupui.edu\\\n",
      "From: cwen@iupui.edu\\\n",
      "From: gsilver@umich.edu\\\n",
      "From: gsilver@umich.edu\\\n",
      "From: zqian@umich.edu\\\n",
      "From: gsilver@umich.edu\\\n",
      "From: wagnermr@iupui.edu\\\n",
      "From: zqian@umich.edu\\\n",
      "From: antranig@caret.cam.ac.uk\\\n",
      "From: gopal.ramasammycook@gmail.com\\\n",
      "From: david.horwitz@uct.ac.za\\\n",
      "From: david.horwitz@uct.ac.za\\\n",
      "From: david.horwitz@uct.ac.za\\\n",
      "From: david.horwitz@uct.ac.za\\\n",
      "From: stephen.marquard@uct.ac.za\\\n",
      "From: louis@media.berkeley.edu\\\n",
      "From: louis@media.berkeley.edu\\\n",
      "From: ray@media.berkeley.edu\\\n",
      "From: cwen@iupui.edu\\\n",
      "From: cwen@iupui.edu\\\n",
      "From: cwen@iupui.edu\\\n"
     ]
    }
   ],
   "source": [
    "import re\n",
    "\n",
    "hand = open('mbox-short.rtf')\n",
    "\n",
    "for line in hand :\n",
    "    line = line.rstrip()\n",
    "    \n",
    "    if re.search('^From: ', line) :    # ^From: indicates it starts with From\n",
    "        print(line)"
   ]
  },
  {
   "cell_type": "markdown",
   "metadata": {},
   "source": [
    "## 5. Wild-Card Characters\n",
    "\n",
    "- The **dot** character matches any character\n",
    "- If you add the **asterisk** character, the character is \"any number of times\"\n",
    "\n",
    "^X.*:\n",
    "\n",
    "- Starts with X (^X), followed by any character (.), followed by any number of characters (*), followed by a colon (:)\n",
    "\n",
    "^X-\\S+:\n",
    "\n",
    "- Starts with X (^X), followed by a dash (-), followed by any non-whitespace character (\\S), one or more times (+), followed by a colon (:)\n",
    "\n",
    "# 11.2 Matching and Extracting Data\n",
    "\n",
    "- **re.search()** returns a True/False depending on whether the string matches the regular expression\n",
    "- If we actually want the matching strings to be extracted, we use **re.findall()**"
   ]
  },
  {
   "cell_type": "code",
   "execution_count": 14,
   "metadata": {},
   "outputs": [
    {
     "name": "stdout",
     "output_type": "stream",
     "text": [
      "['2', '19', '42']\n"
     ]
    }
   ],
   "source": [
    "import re\n",
    "\n",
    "x = 'My 2 favorite numbers are 19 and 42'\n",
    "y = re.findall('[0-9]+', x)    # [0-9]+  one or more digits\n",
    "\n",
    "print(y)"
   ]
  },
  {
   "cell_type": "code",
   "execution_count": 16,
   "metadata": {},
   "outputs": [
    {
     "name": "stdout",
     "output_type": "stream",
     "text": [
      "[]\n"
     ]
    }
   ],
   "source": [
    "y = re.findall('[AEIOU]+', x)    # [AEIOU]+ any uppercase vowel\n",
    "\n",
    "print(y)"
   ]
  },
  {
   "cell_type": "markdown",
   "metadata": {},
   "source": [
    "## 1. Warning: Greedy Matching\n",
    "\n",
    "- The **repeat** characters (* and +) push **outward** in both directions (greedy) to match the largest possible string"
   ]
  },
  {
   "cell_type": "code",
   "execution_count": 17,
   "metadata": {},
   "outputs": [
    {
     "name": "stdout",
     "output_type": "stream",
     "text": [
      "['From: Using the :']\n"
     ]
    }
   ],
   "source": [
    "import re\n",
    "\n",
    "x = 'From: Using the : character'\n",
    "y = re.findall('^F.+:', x)\n",
    "\n",
    "print(y)    # returns the below, instead of ['From:']"
   ]
  },
  {
   "cell_type": "markdown",
   "metadata": {},
   "source": [
    "## 2. Non-Greedy Matching\n",
    "\n",
    "- Not all regular expression repeat codes are greedy\n",
    "- If you add a **?** character, the + and * chill out a bit"
   ]
  },
  {
   "cell_type": "code",
   "execution_count": 21,
   "metadata": {},
   "outputs": [
    {
     "name": "stdout",
     "output_type": "stream",
     "text": [
      "['From:']\n"
     ]
    }
   ],
   "source": [
    "import re\n",
    "\n",
    "x = 'From: Using the : character'\n",
    "y = re.findall('^F.+?:', x)\n",
    "\n",
    "print(y)"
   ]
  },
  {
   "cell_type": "markdown",
   "metadata": {},
   "source": [
    "## 3. Fine-Tuning String Extraction\n",
    "\n",
    "- You can refine the match for **re.findall()** and separately determine which portion of the match is to be extracted by using parentheses"
   ]
  },
  {
   "cell_type": "code",
   "execution_count": 22,
   "metadata": {},
   "outputs": [
    {
     "name": "stdout",
     "output_type": "stream",
     "text": [
      "['stephen.marquard@uct.ac.za']\n"
     ]
    }
   ],
   "source": [
    "import re\n",
    "\n",
    "x = 'From stephen.marquard@uct.ac.za Sat Jan  5 09:14:16 2008'\n",
    "y = re.findall('\\S+@\\S+', x)    # non-blank character(s), @, non-blank character(s)\n",
    "\n",
    "print(y)"
   ]
  },
  {
   "cell_type": "code",
   "execution_count": 23,
   "metadata": {},
   "outputs": [
    {
     "name": "stdout",
     "output_type": "stream",
     "text": [
      "['stephen.marquard@uct.ac.za']\n"
     ]
    }
   ],
   "source": [
    "y = re.findall('^From (\\S+@\\S+)', x)    # return only inside of ()\n",
    "\n",
    "print(y)"
   ]
  },
  {
   "cell_type": "markdown",
   "metadata": {},
   "source": [
    "## 4. The Double Split Pattern\n",
    "\n",
    "- Sometimes we split a line one way, and then grab one of the pieces of the line and split that piece again"
   ]
  },
  {
   "cell_type": "code",
   "execution_count": 26,
   "metadata": {},
   "outputs": [
    {
     "name": "stdout",
     "output_type": "stream",
     "text": [
      "uct.ac.za\n"
     ]
    }
   ],
   "source": [
    "x = 'From stephen.marquard@uct.ac.za Sat Jan  5 09:14:16 2008'\n",
    "\n",
    "words = x.split()\n",
    "email = words[1]\n",
    "pieces = email.split('@')\n",
    "\n",
    "print(pieces[1])"
   ]
  },
  {
   "cell_type": "markdown",
   "metadata": {},
   "source": [
    "**The Regex Version**"
   ]
  },
  {
   "cell_type": "code",
   "execution_count": 30,
   "metadata": {},
   "outputs": [
    {
     "name": "stdout",
     "output_type": "stream",
     "text": [
      "['uct.ac.za']\n"
     ]
    }
   ],
   "source": [
    "import re\n",
    "\n",
    "x = 'From stephen.marquard@uct.ac.za Sat Jan  5 09:14:16 2008'\n",
    "y = re.findall('@([^ ]*)', x)    # [^ ]* match non-blank characters for any number of times\n",
    "\n",
    "print(y)"
   ]
  },
  {
   "cell_type": "code",
   "execution_count": 32,
   "metadata": {},
   "outputs": [
    {
     "name": "stdout",
     "output_type": "stream",
     "text": [
      "['uct.ac.za']\n"
     ]
    }
   ],
   "source": [
    "y = re.findall('^From .*@([^ ]*)', x)\n",
    "        \n",
    "print(y)"
   ]
  },
  {
   "cell_type": "markdown",
   "metadata": {},
   "source": [
    "## 5. Spam Confidence"
   ]
  },
  {
   "cell_type": "code",
   "execution_count": 34,
   "metadata": {},
   "outputs": [
    {
     "name": "stdout",
     "output_type": "stream",
     "text": [
      "Maximum: 0.9907\n"
     ]
    }
   ],
   "source": [
    "import re\n",
    "\n",
    "hand = open('mbox-short.rtf')\n",
    "numlist = list()\n",
    "\n",
    "for line in hand :\n",
    "    line = line.rstrip()\n",
    "    stuff = re.findall('X-DSPAM-Confidence: ([0-9.]+)', line)\n",
    "    \n",
    "    if len(stuff) != 1 :\n",
    "        continue\n",
    "    \n",
    "    num = float(stuff[0])\n",
    "    numlist.append(num)\n",
    "\n",
    "print('Maximum:', max(numlist))"
   ]
  },
  {
   "cell_type": "markdown",
   "metadata": {},
   "source": [
    "## 6. Escape Character\n",
    "\n",
    "- If you want a special regular expression character to just behave **normally**, you prefix it with '\\'"
   ]
  },
  {
   "cell_type": "code",
   "execution_count": 35,
   "metadata": {},
   "outputs": [
    {
     "name": "stdout",
     "output_type": "stream",
     "text": [
      "['$10.00']\n"
     ]
    }
   ],
   "source": [
    "import re\n",
    "\n",
    "x = 'We just received $10.00 for cookies.'\n",
    "y = re.findall('\\$[0-9.]+', x)\n",
    "\n",
    "print(y)"
   ]
  },
  {
   "cell_type": "markdown",
   "metadata": {},
   "source": [
    "# 3. Python Regular Expression Quick Guide\n",
    "\n",
    "Python Regular Expression Quick Guide\n",
    "\n",
    "- '^'        Matches the beginning of a line  \n",
    "- '$'        Matches the end of the line  \n",
    "- '.'        Matches any character  \n",
    "- '\\s'       Matches whitespace  \n",
    "- '\\S'       Matches any non-whitespace character  \n",
    "- '*'        Repeats a character zero or more times  \n",
    "- '*?'       Repeats a character zero or more times (non-greedy)  \n",
    "- '+'        Repeats a character one or more times  \n",
    "- '+?'       Repeats a character one or more times (non-greedy)  \n",
    "- '[aeiou]'  Matches a single character in the listed set  \n",
    "- '[^XYZ]'   Matches a single character not in the listed set  \n",
    "- '[a-z0-9]' Matches a lowercase letter or a digit\n",
    "- '('        Indicates where string extraction is to start  \n",
    "- ')'        Indicates where string extraction is to end  \n",
    "\n",
    "Complete Guidelines:\n",
    "\n",
    "- https://docs.python.org/3/howto/regex.html"
   ]
  },
  {
   "cell_type": "markdown",
   "metadata": {},
   "source": [
    "# Quiz 11\n",
    "\n",
    "#### 1. Which of the following regular expressions would extract 'uct.ac.za' from this string using re.findall?"
   ]
  },
  {
   "cell_type": "code",
   "execution_count": 36,
   "metadata": {},
   "outputs": [
    {
     "data": {
      "text/plain": [
       "['uct.']"
      ]
     },
     "execution_count": 36,
     "metadata": {},
     "output_type": "execute_result"
    }
   ],
   "source": [
    "x = 'From stephen.marquardd@uct.'\n",
    "\n",
    "re.findall('@(\\S+)', x)"
   ]
  },
  {
   "cell_type": "markdown",
   "metadata": {},
   "source": [
    "#### 2. Which of the following is the way we match the \"start of a line\" in a regular expression?\n",
    "\n",
    "^\n",
    "\n",
    "#### 3. What would the following mean in a regular expression? [a-z0-9]\n",
    "\n",
    "Match a lowercase letter or a digit\n",
    "\n",
    "#### 4. What is the type of the return value of the \"re.findall()\" method?\n",
    "\n",
    "A list of strings\n",
    "\n",
    "#### 5. What is the \"wild card\" character in a regular expression (i.e., the character that matches any character)?\n",
    "\n",
    ".\n",
    "\n",
    "#### 6. What is the difference between the \"+\" and \"*\" character in regular expressions?\n",
    "\n",
    "The \"+\" matches at least one character and the \"*\" matches zero or more characters\n",
    "\n",
    "#### 7. What does the \"[0-9]+\" match in a regular expression?\n",
    "\n",
    "One or more digits\n",
    "\n",
    "#### 8. What does the following Python sequence print out?"
   ]
  },
  {
   "cell_type": "code",
   "execution_count": 37,
   "metadata": {},
   "outputs": [
    {
     "name": "stdout",
     "output_type": "stream",
     "text": [
      "['From: Using the :']\n"
     ]
    }
   ],
   "source": [
    "x = 'From: Using the : character'\n",
    "y = re.findall('^F.+:', x)\n",
    "\n",
    "print(y)"
   ]
  },
  {
   "cell_type": "markdown",
   "metadata": {},
   "source": [
    "#### 9. What character do you add to the \"+\" or \"*\" to indicate that the match is to be done in a non-greedy manner?\n",
    "\n",
    "?\n",
    "\n",
    "#### 10. Given the following test:"
   ]
  },
  {
   "cell_type": "code",
   "execution_count": 40,
   "metadata": {},
   "outputs": [
    {
     "name": "stdout",
     "output_type": "stream",
     "text": [
      "['stephen.marquard@uct.ac.za']\n"
     ]
    }
   ],
   "source": [
    "x = 'From stephen.marquard@uct.ac.za Sat Jan  5 09:14:16 2008'\n",
    "y = re.findall('\\S+@\\S+', x)\n",
    "\n",
    "print(y)"
   ]
  },
  {
   "cell_type": "markdown",
   "metadata": {},
   "source": [
    "# Assignment 11\n",
    "\n",
    "Welcome Tim Yang from Using Python to Access Web Data\n",
    "\n",
    "**Finding Numbers in a Haystack**\n",
    "\n",
    "In this assignment you will read through and parse a file with text and numbers. You will extract all the numbers in the file and compute the sum of the numbers.\n",
    "\n",
    "**Data Files**\n",
    "\n",
    "We provide two files for this assignment. One is a sample file where we give you the sum for your testing and the other is the actual data you need to process for the assignment.\n",
    "\n",
    "- Sample data: http://py4e-data.dr-chuck.net/regex_sum_42.txt (There are 90 values with a sum=445833)\n",
    "- Actual data: http://py4e-data.dr-chuck.net/regex_sum_1129400.txt (There are 86 values and the sum ends with 41)\n",
    "\n",
    "These links open in a new window. Make sure to save the file into the same folder as you will be writing your Python program. **Note:** Each student will have a distinct data file for the assignment - so only use your own data file for analysis.\n",
    "\n",
    "**Data Format**  \n",
    "\n",
    "The file contains much of the text from the introduction of the textbook except that random numbers are inserted throughout the text. Here is a sample of the output you might see:\n",
    "\n",
    "Why should you learn to write programs? 7746  \n",
    "12 1929 8827  \n",
    "Writing programs (or programming) is a very creative    \n",
    "7 and rewarding activity.  You can write programs for   \n",
    "many reasons, ranging from making your living to solving  \n",
    "8837 a difficult data analysis problem to having fun to helping 128   \n",
    "someone else solve a problem.  This book assumes that   \n",
    "everyone needs to know how to program ...  \n",
    "\n",
    "The sum for the sample text above is **27486**. The numbers can appear anywhere in the line. There can be any number of numbers in each line (including none).\n",
    "\n",
    "**Handling The Data**\n",
    "\n",
    "The basic outline of this problem is to read the file, look for integers using the **re.findall()**, looking for a regular expression of **'[0-9]+'** and then converting the extracted strings to integers and summing up the integers.\n",
    "\n",
    "**Turn in Assignent**"
   ]
  },
  {
   "cell_type": "code",
   "execution_count": 85,
   "metadata": {},
   "outputs": [
    {
     "name": "stdout",
     "output_type": "stream",
     "text": [
      "Sume is 445041\n"
     ]
    }
   ],
   "source": [
    "fhandle = open(\"assignment.rtf\")\n",
    "lst = list()\n",
    "ans = 0\n",
    "tic = 0\n",
    "\n",
    "for line in fhandle :\n",
    "    lst = re.findall('[0-9]+', line)\n",
    "    \n",
    "    if len(lst) == 0 :\n",
    "        continue\n",
    "        \n",
    "    tic = tic + 1\n",
    "    \n",
    "    if tic <= 7 :\n",
    "        continue\n",
    "    \n",
    "    for i in lst :\n",
    "        ans = ans + int(i)\n",
    "\n",
    "print('The sum is', ans)"
   ]
  }
 ],
 "metadata": {
  "kernelspec": {
   "display_name": "Python 3",
   "language": "python",
   "name": "python3"
  },
  "language_info": {
   "codemirror_mode": {
    "name": "ipython",
    "version": 3
   },
   "file_extension": ".py",
   "mimetype": "text/x-python",
   "name": "python",
   "nbconvert_exporter": "python",
   "pygments_lexer": "ipython3",
   "version": "3.7.4"
  }
 },
 "nbformat": 4,
 "nbformat_minor": 2
}
