{
 "cells": [
  {
   "cell_type": "markdown",
   "metadata": {},
   "source": [
    "### Chapter 12 - Networks and Sockets\n",
    "\n",
    "# Table of Contents\n",
    "\n",
    "12.1 Networked Techonology\n",
    "\n",
    "12.2 Hypertext Tansfer Protocol (HTTP)\n",
    "\n",
    "Quiz 12 - 1\n",
    "\n",
    "Assignment 12 -2\n",
    "\n",
    "12.3 Unicode Characters and Strings\n",
    "\n",
    "12.4 Retrieving Web Pages\n",
    "\n",
    "12.5 Parsing Web Pages\n",
    "\n",
    "Quiz 12 - 2\n",
    "\n",
    "Assignment 12 - 2\n",
    "\n",
    "\n",
    "\n",
    "# 12.1 Networked Technology\n",
    "\n",
    "## 1. Transport Control Protocol (TCP)\n",
    "\n",
    "- Built on top of Internet Protocol (IP)\n",
    "- Assumes IP might lost some data - stores and restransmits data if it seems to be lost\n",
    "- Handles \"flow control\" using a transmit window\n",
    "- Provides a nice reliable **pipe**\n",
    "\n",
    "## 2. Common TCP Ports\n",
    "\n",
    "- Telnet (23) - Login\n",
    "- SSH (22) - Secure Login\n",
    "- **HTTP (80)**\n",
    "- HTTPS(443) - Secure\n",
    "- SMTP (25) - Mail\n",
    "- IMAP (143/220/993) - Mail Tretrival\n",
    "- POP (109/110) - Mail Retrieval\n",
    "- DNS (53) - Domain Name\n",
    "- FTP (21) - File Transfer\n",
    "\n",
    "## 3. Sockets in Python\n",
    "\n",
    "- Python has built-in support for TCP Sockets"
   ]
  },
  {
   "cell_type": "code",
   "execution_count": 1,
   "metadata": {},
   "outputs": [],
   "source": [
    "import socket\n",
    "\n",
    "mysock = socket.socket(socket.AF_INET, socket.SOCK_STREAM)\n",
    "mysock.connect( ('data.pr4e.org', 80))        # Host: data.pr42.org, Port: 80"
   ]
  },
  {
   "cell_type": "markdown",
   "metadata": {},
   "source": [
    "# 12.2 Hypertext Transfer Protocol (HTTP)\n",
    "\n",
    "## 1. Application Protocol\n",
    "\n",
    "- Since TCP (and Python) gives us a reliable **socket**, what do we want to do with the **socket**? What problem do we want to solve?\n",
    "- Application Protocols\n",
    "  - Mail\n",
    "  - World Wide Web\n",
    "  \n",
    "## 2. HTTP - Hypertext Transfer Protocol\n",
    "\n",
    "- The dominant Application Layer Protocol on the Internet\n",
    "- Invented for the Web \n",
    "  - to retreive HTLM, Images, Documents, etc\n",
    "- Extended to be data in addition to documents \n",
    "  - RSS, Web Services, etc\n",
    "- Basic Concept\n",
    "  - Make a connection - Request a document - Retrieve the document - Close the connection\n",
    "  \n",
    "## 3. What is HTTP?\n",
    "\n",
    "- The **H**yper**T**ext **T**ransfer **P**rotocol \n",
    "  - the set of rules to allow browsers to retrieve web documents from servers over the Internet\n",
    "  \n",
    "## 4. What is a Protocol?\n",
    "\n",
    "- A set of rules that all parties follow so we can predict each other's behavior\n",
    "- And not bump into each other\n",
    "  - One two-way roads in USA, drive on the right-hand side of the road\n",
    "  - One two-way roads in the UK, drive on the left-handd side of the road\n",
    "- http://www.dr-chuck.com/page1.htm\n",
    "  - **protocol:** http:// \n",
    "  - **host:** www.dr-chuck.com\n",
    "  - **document:** page1.htm\n",
    "  \n",
    "## 5. Getting Data from the Server\n",
    "\n",
    "- Each the user clicks on an anchor tag with an href= value to switch to a new page,\n",
    "- the browser makes a connection to the web server and issues a \"GET\" request\n",
    "- to GET the content of the page at the specified ULR\n",
    "- The server returns the HTML document to the Browser which formats and displays the document to the user\n",
    "\n",
    "## 6. An HTTP Request in Python"
   ]
  },
  {
   "cell_type": "code",
   "execution_count": 3,
   "metadata": {},
   "outputs": [
    {
     "name": "stdout",
     "output_type": "stream",
     "text": [
      "HTTP/1.1 200 OK\r\n",
      "Date: Wed, 24 Feb 2021 13:01:06 GMT\r\n",
      "Server: Apache/2.4.18 (Ubuntu)\r\n",
      "Last-Modified: Sat, 13 May 2017 11:22:22 GMT\r\n",
      "ETag: \"a7-54f6609245537\"\r\n",
      "Accept-Ranges: bytes\r\n",
      "Content-Length: 167\r\n",
      "Cache-Control: max-age=0, no-cache, no-store, must-revalidate\r\n",
      "Pragma: no-cache\r\n",
      "Expires: Wed, 11 Jan 1984 05:00:00 GMT\r\n",
      "Connection: close\r\n",
      "Content-Type: text/plain\r\n",
      "\r\n",
      "But soft what light through yonder window breaks\n",
      "It is the east and Juliet is the sun\n",
      "Arise fair sun and kill the envious moon\n",
      "Who is already s\n",
      "ick and pale with grief\n",
      "\n"
     ]
    }
   ],
   "source": [
    "import socket\n",
    "\n",
    "mysock = socket.socket(socket.AF_INET, socket.SOCK_STREAM)\n",
    "mysock.connect(('data.pr4e.org', 80))\n",
    "\n",
    "cmd = 'GET http://data.pr4e.org/romeo.txt HTTP/1.0\\r\\n\\r\\n'.encode()\n",
    "mysock.send(cmd)\n",
    "\n",
    "while True :\n",
    "    data = mysock.recv(512)\n",
    "    \n",
    "    if (len(data) < 1) :\n",
    "        break\n",
    "    \n",
    "    print(data.decode())\n",
    "\n",
    "mysock.close()"
   ]
  },
  {
   "cell_type": "markdown",
   "metadata": {},
   "source": [
    "# Quiz 12 - 1\n",
    "\n",
    "#### 1. What do we call it when a browser uses the HTTP protocol to load a file or page from a server and display it in the browser?\n",
    "\n",
    "The Request/Response Cycle\n",
    "\n",
    "#### 2. What separates the HTTP headers from the body of the HTTP document?\n",
    "\n",
    "A blank line\n",
    "\n",
    "#### 3. What must you do in Python before opening a socket?\n",
    "\n",
    "import socket\n",
    "\n",
    "#### 4. Which of the following TCP sockets is most commonly used for the web protocol (HTTP)?\n",
    "\n",
    "80\n",
    "\n",
    "#### 5. Which of the following is most like an open socket in an application?\n",
    "\n",
    "An \"in-progress\" phone conversation\n",
    "\n",
    "#### 6. What does the \"H\" of HTTP stand for?\n",
    "\n",
    "HyperText\n",
    "\n",
    "#### 7. What is an important aspect of an Application Layer protocol like HTTP?\n",
    "\n",
    "Which application talks first? The client or server?\n",
    "\n",
    "#### 8. What are the three parts of this URL (Uniform Resource Locator)?\n",
    "\n",
    "http://www.dr-chuck.com/page1.htm\n",
    "\n",
    "protocol, host, document\n",
    "\n",
    "#### 9. When you click on an anchor tag in a web page like below, what HTTP request is sent to the server?\n",
    "\n",
    "<p>Please click <a href=\"page1.htm\">here</a>.</p>\n",
    "\n",
    "GET\n",
    "\n",
    "#### 10. Which organization publishes Internet Protocol Standards?\n",
    "\n",
    "Internet Engineering Task Force (IETF)\n",
    "\n",
    "# Assignment 12 - 1\n",
    "\n",
    "Welcome Tim Yang from Using Python to Access Web Data\n",
    "\n",
    "**Exploring the HyperText Transport Protocol**\n",
    "\n",
    "You are to retrieve the following document using the HTTP protocol in a way that you can examine the HTTP Response headers.\n",
    "\n",
    "- http://data.pr4e.org/intro-short.txt\n",
    "\n",
    "There are three ways that you might retrieve this web page and look at the response headers:\n",
    "\n",
    "- **Preferred:** Modify the socket1.py program to retrieve the above URL and print out the headers and data. Make sure to **change** the code to retrieve the above URL - the values are different for each URL.\n",
    "- Open the URL in a web browser with a developer console or FireBug and manually examine the headers that are returned.\n",
    "\n",
    "Enter the header values in each of the fields below and press \"Submit\"."
   ]
  },
  {
   "cell_type": "code",
   "execution_count": 6,
   "metadata": {},
   "outputs": [
    {
     "name": "stdout",
     "output_type": "stream",
     "text": [
      "HTTP/1.1 200 OK\r\n",
      "Date: Wed, 24 Feb 2021 13:30:45 GMT\r\n",
      "Server: Apache/2.4.18 (Ubuntu)\r\n",
      "Last-Modified: Sat, 13 May 2017 11:22:22 GMT\r\n",
      "ETag: \"1d3-54f6609240717\"\r\n",
      "Accept-Ranges: bytes\r\n",
      "Content-Length: 467\r\n",
      "Cache-Control: max-age=0, no-cache, no-store, must-revalidate\r\n",
      "Pragma: no-cache\r\n",
      "Expires: Wed, 11 Jan 1984 05:00:00 GMT\r\n",
      "Connection: close\r\n",
      "Content-Type: text/plain\r\n",
      "\r\n",
      "Why should you learn to write programs?\n",
      "\n",
      "Writing programs (or programming) is a very creative \n",
      "and rewarding activity.  You can write programs for \n",
      "many reasons, ranging from making your living to solving\n",
      "a difficult data analysis problem to having fun to helping\n",
      "someone else solve a problem.  This book assumes that \n",
      "everyone needs to know how to program, and that once \n",
      "you know how to program you will figure out what you want \n",
      "to do with your newfound skills.  \n"
     ]
    }
   ],
   "source": [
    "import socket\n",
    "\n",
    "mysock = socket.socket(socket.AF_INET, socket.SOCK_STREAM)\n",
    "mysock.connect(('data.pr4e.org', 80))\n",
    "    \n",
    "cmd = 'GET http://data.pr4e.org/intro-short.txt HTTP/1.0\\r\\n\\r\\n'.encode()\n",
    "mysock.send(cmd)\n",
    "\n",
    "while True:\n",
    "    data = mysock.recv(512)\n",
    "    \n",
    "    if len(data) < 1:\n",
    "        break\n",
    "        \n",
    "    print(data.decode(),end='')\n",
    "\n",
    "mysock.close()"
   ]
  },
  {
   "cell_type": "markdown",
   "metadata": {},
   "source": [
    "# 12.3 Unicode Characters and Strings\n",
    "\n",
    "## 1. Representing Simple Strings\n",
    "\n",
    "- Each character is represented by a number between 0 and 256 stored in 8 bits of memory\n",
    "- We refer to \"8 bits of memory as a \"byte\" of memory - (i.e. my disk drive contains 3 Tera**bytes** of memory)\n",
    "- The **ord()** function tells us the numeric value of a simplel ASCII character\n",
    "- American Standard Code for Information Interchange (ASCII)\n",
    "  - https://cs.smu.ca/~porter/csc/ref/ascii.html"
   ]
  },
  {
   "cell_type": "code",
   "execution_count": 10,
   "metadata": {},
   "outputs": [
    {
     "name": "stdout",
     "output_type": "stream",
     "text": [
      "72\n",
      "101\n",
      "10\n"
     ]
    }
   ],
   "source": [
    "print(ord('H'))\n",
    "print(ord('e'))\n",
    "print(ord('\\n'))"
   ]
  },
  {
   "cell_type": "markdown",
   "metadata": {},
   "source": [
    "## 2. Two Kinds of Strings in Python\n",
    "\n",
    "Python 3.5.1\n",
    "\n",
    "- In Python 3, all strings are Unicode"
   ]
  },
  {
   "cell_type": "code",
   "execution_count": 13,
   "metadata": {},
   "outputs": [
    {
     "data": {
      "text/plain": [
       "str"
      ]
     },
     "execution_count": 13,
     "metadata": {},
     "output_type": "execute_result"
    }
   ],
   "source": [
    "x = '이광춘'\n",
    "type(x)"
   ]
  },
  {
   "cell_type": "code",
   "execution_count": 12,
   "metadata": {},
   "outputs": [
    {
     "data": {
      "text/plain": [
       "str"
      ]
     },
     "execution_count": 12,
     "metadata": {},
     "output_type": "execute_result"
    }
   ],
   "source": [
    "x = u'이광춘'  # u stands for Unicode\n",
    "type(x)"
   ]
  },
  {
   "cell_type": "code",
   "execution_count": 16,
   "metadata": {},
   "outputs": [
    {
     "data": {
      "text/plain": [
       "bytes"
      ]
     },
     "execution_count": 16,
     "metadata": {},
     "output_type": "execute_result"
    }
   ],
   "source": [
    "x = b'abc'   # b stands for Byte\n",
    "type(x)"
   ]
  },
  {
   "cell_type": "markdown",
   "metadata": {},
   "source": [
    "## 3. Python Strings to Bytes\n",
    "\n",
    "- When we read data from an external resource, we must decode it based on the character set so it is properly represented in Python 3 as a string\n",
    "\n",
    "**encode**"
   ]
  },
  {
   "cell_type": "code",
   "execution_count": 22,
   "metadata": {},
   "outputs": [
    {
     "data": {
      "text/plain": [
       "47"
      ]
     },
     "execution_count": 22,
     "metadata": {},
     "output_type": "execute_result"
    }
   ],
   "source": [
    "import socket\n",
    "\n",
    "mysock = socket.socket(socket.AF_INET, socket.SOCK_STREAM)\n",
    "mysock.connect(('data.pr4e.org', 80))\n",
    "    \n",
    "cmd = 'GET http://data.pr4e.org/romeo.txt HTTP/1.0\\r\\n\\r\\n'.encode()\n",
    "mysock.send(cmd)"
   ]
  },
  {
   "cell_type": "markdown",
   "metadata": {},
   "source": [
    "**decode**"
   ]
  },
  {
   "cell_type": "code",
   "execution_count": 23,
   "metadata": {},
   "outputs": [
    {
     "name": "stdout",
     "output_type": "stream",
     "text": [
      "HTTP/1.1 200 OK\r\n",
      "Date: Wed, 24 Feb 2021 14:03:28 GMT\r\n",
      "Server: Apache/2.4.18 (Ubuntu)\r\n",
      "Last-Modified: Sat, 13 May 2017 11:22:22 GMT\r\n",
      "ETag: \"a7-54f6609245537\"\r\n",
      "Accept-Ranges: bytes\r\n",
      "Content-Length: 167\r\n",
      "Cache-Control: max-age=0, no-cache, no-store, must-revalidate\r\n",
      "Pragma: no-cache\r\n",
      "Expires: Wed, 11 Jan 1984 05:00:00 GMT\r\n",
      "Connection: close\r\n",
      "Content-Type: text/plain\r\n",
      "\r\n",
      "But soft what light through yonder window breaks\n",
      "It is the east and Juliet is the sun\n",
      "Arise fair sun and kill the envious moon\n",
      "Who is already s\n",
      "ick and pale with grief\n",
      "\n"
     ]
    }
   ],
   "source": [
    "import socket\n",
    "\n",
    "# decode\n",
    "while True :\n",
    "    # Bytes\n",
    "    data = mysock.recv(512)\n",
    "    \n",
    "    if (len(data) < 1) :\n",
    "        break\n",
    "    \n",
    "    # Unicode\n",
    "    mystring = data.decode()\n",
    "    \n",
    "    print(mystring)"
   ]
  },
  {
   "cell_type": "markdown",
   "metadata": {},
   "source": [
    "bytes.**decode**(encdoing = \"utf-8\", errors = \"strict\")  \n",
    "bytearray.**decode**(encoding = \"utf-8\", errors = \"strict\")\n",
    "\n",
    "- Return a string decoded from the given bytes\n",
    "- Default encoding is 'utf-8'\n",
    "- *errors* may be given to set a different error handling scheme\n",
    "- The default for errors is 'strict', meaning that encoding errors raise a UnicodeError\n",
    "- Other possible values are 'ignore', 'replace' and any other name registered via codecs.register_error()\n",
    "\n",
    "str.**encode**(encoding = \"utf-8\", errors = \"strict\")\n",
    "\n",
    "- Return an encoded version of the string as a bytes object\n",
    "- Default encoding is 'utf-8'\n",
    "- *errors* may be given to set a different error handling scheme\n",
    "- The default for errors is 'strict', meaning the encoding errors raise a UnicodeError\n",
    "- Other possible values are 'ignore', 'replace', 'xmlcharrefreplace', 'backslashreplace' and any other name registered via codecs.register_error()"
   ]
  },
  {
   "cell_type": "markdown",
   "metadata": {},
   "source": [
    "# 12.4 Retrieving Web Pages\n",
    "\n",
    "## 1. Using urllib in Python\n",
    "\n",
    "- Since HTTP is so common, we have a library that does all the socket work for us and makes web pages look like a file"
   ]
  },
  {
   "cell_type": "code",
   "execution_count": 27,
   "metadata": {},
   "outputs": [
    {
     "name": "stdout",
     "output_type": "stream",
     "text": [
      "But soft what light through yonder window breaks\n",
      "It is the east and Juliet is the sun\n",
      "Arise fair sun and kill the envious moon\n",
      "Who is already sick and pale with grief\n"
     ]
    }
   ],
   "source": [
    "import urllib.request, urllib.parse, urllib.error\n",
    "\n",
    "fhand = urllib.request.urlopen('http://data.pr4e.org/romeo.txt')\n",
    "\n",
    "for line in fhand :\n",
    "    print(line.decode().strip())"
   ]
  },
  {
   "cell_type": "markdown",
   "metadata": {},
   "source": [
    "## 2. Reading through all the Words in a txt File"
   ]
  },
  {
   "cell_type": "code",
   "execution_count": 31,
   "metadata": {},
   "outputs": [
    {
     "name": "stdout",
     "output_type": "stream",
     "text": [
      "{'But': 1, 'soft': 1, 'what': 1, 'light': 1, 'through': 1, 'yonder': 1, 'window': 1, 'breaks': 1, 'It': 1, 'is': 3, 'the': 3, 'east': 1, 'and': 3, 'Juliet': 1, 'sun': 2, 'Arise': 1, 'fair': 1, 'kill': 1, 'envious': 1, 'moon': 1, 'Who': 1, 'already': 1, 'sick': 1, 'pale': 1, 'with': 1, 'grief': 1}\n"
     ]
    }
   ],
   "source": [
    "import urllib.request, urllib.parse, urllib.error\n",
    "\n",
    "fhand = urllib.request.urlopen('http://data.pr4e.org/romeo.txt')\n",
    "\n",
    "counts = dict()\n",
    "\n",
    "for line in fhand :\n",
    "    words = line.decode().split()\n",
    "    \n",
    "    for word in words :\n",
    "        counts[word] = counts.get(word, 0) + 1\n",
    "\n",
    "print(counts)"
   ]
  },
  {
   "cell_type": "markdown",
   "metadata": {},
   "source": [
    "## 3. Reading Web Pages in a html file"
   ]
  },
  {
   "cell_type": "code",
   "execution_count": 34,
   "metadata": {},
   "outputs": [
    {
     "name": "stdout",
     "output_type": "stream",
     "text": [
      "<h1>The First Page</h1>\n",
      "<p>\n",
      "If you like, you can switch to the\n",
      "<a href=\"http://www.dr-chuck.com/page2.htm\">\n",
      "Second Page</a>.\n",
      "</p>\n"
     ]
    }
   ],
   "source": [
    "import urllib.request, urllib.parse, urllib.error\n",
    "\n",
    "fhand = urllib.request.urlopen('http://www.dr-chuck.com/page1.htm')\n",
    "\n",
    "for line in fhand :\n",
    "    print(line.decode().strip())"
   ]
  },
  {
   "cell_type": "markdown",
   "metadata": {},
   "source": [
    "# 12.5 Parsing Web Pages\n",
    "\n",
    "## 1. What is Web Scraping?\n",
    "\n",
    "- When a program or script pretends to be a browser and retrieves web pages, looks at those web pages, extracts information, and then looks at more web pages\n",
    "- Seach engines scrape web pages\n",
    "  - we call this \"spidering the web\" or \"web crawling\"\n",
    "  \n",
    "## 2. BeautifulSoup Installation\n",
    "\n",
    "- https://pypi.python.org/pypi/beautifulsoup4\n",
    "- or download the file\n",
    "  - http://www.py4e.com/code3/bs4.zip\n",
    "- and unzip it in the same directory as this file\n",
    "\n",
    "import urllib.request, urllib,parse, urllib.error  \n",
    "from bs4 import BeautifulSoup  \n",
    "..."
   ]
  },
  {
   "cell_type": "code",
   "execution_count": 40,
   "metadata": {},
   "outputs": [
    {
     "name": "stdout",
     "output_type": "stream",
     "text": [
      "Enter - http://www.dr-chuck.com/page1.htm\n",
      "http://www.dr-chuck.com/page2.htm\n"
     ]
    }
   ],
   "source": [
    "import urllib.request, urllib.parse, urllib.error # Read some data from the net\n",
    "from bs4 import BeautifulSoup                     # Import the BeautifulSoup library\n",
    "\n",
    "url = input('Enter - ')                           # Ask for a URL (http://www.dr-chuck.com/page1.htm)\n",
    "html = urllib.request.urlopen(url).read()         # Open it, and then do a .read() (reads the whole line, it all comes into one big string)\n",
    "soup = BeautifulSoup(html, 'html.parser')         # Tell BeautifulSoup to parse it (cleans it)\n",
    "\n",
    "# Retrieve all of the anchor tags\n",
    "tags = soup('a')                                  # Go through all of the anchor tags in a document, \n",
    "                                                  # and give me a list of all the anchor tags in a document.\n",
    "\n",
    "for tag in tags :\n",
    "    print(tag.get('href', None))                  # get the href key, or None (like a dictionary)"
   ]
  },
  {
   "cell_type": "markdown",
   "metadata": {},
   "source": [
    "# Summary\n",
    "\n",
    "- The TCP/IP gives us pipes/sockets between applications\n",
    "- We designed application protocols to make use of these pipes\n",
    "- HyperText Transfer Protocol (HTTP) is a simple, yet powerful protocol\n",
    "- Python has good support for sockets, HTTP, and HTML parsing"
   ]
  },
  {
   "cell_type": "markdown",
   "metadata": {},
   "source": [
    "# Quiz 12 - 2\n",
    "\n",
    "#### 1. Which of the following Python data structures is most similar to the value returned in this line of Python:"
   ]
  },
  {
   "cell_type": "code",
   "execution_count": 42,
   "metadata": {},
   "outputs": [],
   "source": [
    "x = urllib.request.urlopen('http://data.pr4e.org/romeo.txt')"
   ]
  },
  {
   "cell_type": "markdown",
   "metadata": {},
   "source": [
    "file handle\n",
    "\n",
    "#### 2. In this Python code, which line actually reads the data?"
   ]
  },
  {
   "cell_type": "code",
   "execution_count": 44,
   "metadata": {},
   "outputs": [
    {
     "name": "stdout",
     "output_type": "stream",
     "text": [
      "HTTP/1.1 200 OK\r\n",
      "Date: Wed, 24 Feb 2021 15:13:49 GMT\r\n",
      "Server: Apache/2.4.18 (Ubuntu)\r\n",
      "Last-Modified: Sat, 13 May 2017 11:22:22 GMT\r\n",
      "ETag: \"a7-54f6609245537\"\r\n",
      "Accept-Ranges: bytes\r\n",
      "Content-Length: 167\r\n",
      "Cache-Control: max-age=0, no-cache, no-store, must-revalidate\r\n",
      "Pragma: no-cache\r\n",
      "Expires: Wed, 11 Jan 1984 05:00:00 GMT\r\n",
      "Connection: close\r\n",
      "Content-Type: text/plain\r\n",
      "\r\n",
      "But soft what light through yonder window breaks\n",
      "It is the east and Juliet is the sun\n",
      "Arise fair sun and kill the envious moon\n",
      "Who is already s\n",
      "ick and pale with grief\n",
      "\n"
     ]
    }
   ],
   "source": [
    "import socket\n",
    "\n",
    "mysock = socket.socket(socket.AF_INET, socket.SOCK_STREAM)\n",
    "mysock.connect(('data.pr4e.org', 80))\n",
    "\n",
    "cmd = 'GET http://data.pr4e.org/romeo.txt HTTP/1.0\\r\\n\\r\\n'.encode()\n",
    "mysock.send(cmd)\n",
    "\n",
    "while True :\n",
    "    data = mysock.recv(512)    # this line actually read the data\n",
    "    \n",
    "    if (len(data) < 1) :\n",
    "        break\n",
    "    \n",
    "    print(data.decode())\n",
    "\n",
    "mysock.close()"
   ]
  },
  {
   "cell_type": "markdown",
   "metadata": {},
   "source": [
    "## 3. Which of the following regular expressions would extract the URL from this line of HTML:\n",
    "\n",
    "<p>Please click <a href=\"http://www.dr-chuck.com\">here</a></p>\n",
    "\n",
    "href=\"(.+)\"\n",
    "\n",
    "## 4. In this Python code, which line is most like the open() call to read a file:"
   ]
  },
  {
   "cell_type": "code",
   "execution_count": 45,
   "metadata": {},
   "outputs": [
    {
     "name": "stdout",
     "output_type": "stream",
     "text": [
      "HTTP/1.1 200 OK\r\n",
      "Date: Wed, 24 Feb 2021 15:18:29 GMT\r\n",
      "Server: Apache/2.4.18 (Ubuntu)\r\n",
      "Last-Modified: Sat, 13 May 2017 11:22:22 GMT\r\n",
      "ETag: \"a7-54f6609245537\"\r\n",
      "Accept-Ranges: bytes\r\n",
      "Content-Length: 167\r\n",
      "Cache-Control: max-age=0, no-cache, no-store, must-revalidate\r\n",
      "Pragma: no-cache\r\n",
      "Expires: Wed, 11 Jan 1984 05:00:00 GMT\r\n",
      "Connection: close\r\n",
      "Content-Type: text/plain\r\n",
      "\r\n",
      "But soft what light through yonder window breaks\n",
      "It is the east and Juliet is the sun\n",
      "Arise fair sun and kill the envious moon\n",
      "Who is already s\n",
      "ick and pale with grief\n",
      "\n"
     ]
    }
   ],
   "source": [
    "import socket\n",
    "\n",
    "mysock = socket.socket(socket.AF_INET, socket.SOCK_STREAM)\n",
    "mysock.connect(('data.pr4e.org', 80))  # this like is most like the open() call to read a file\n",
    "\n",
    "cmd = 'GET http://data.pr4e.org/romeo.txt HTTP/1.0\\r\\n\\r\\n'.encode()\n",
    "mysock.send(cmd)\n",
    "\n",
    "while True :\n",
    "    data = mysock.recv(512) \n",
    "    \n",
    "    if (len(data) < 1) :\n",
    "        break\n",
    "    \n",
    "    print(data.decode())\n",
    "\n",
    "mysock.close()"
   ]
  },
  {
   "cell_type": "markdown",
   "metadata": {},
   "source": [
    "## 5. Which HTTP header tells the browser the kind of document that is being returned?\n",
    "\n",
    "Content-Tye:\n",
    "\n",
    "## 6. What should you check before scraping a web site?\n",
    "\n",
    "That the web site allows scraping\n",
    "\n",
    "## 7. What is the purpose of the BeautifulSoup Python Library?\n",
    "\n",
    "It repairs and parses HTML to make it easier for a program to understand\n",
    "\n",
    "## 8. What ends up in the \"x\" variable in the following code:"
   ]
  },
  {
   "cell_type": "code",
   "execution_count": 48,
   "metadata": {},
   "outputs": [
    {
     "data": {
      "text/plain": [
       "[<a href=\"http://www.dr-chuck.com/page2.htm\">\n",
       " Second Page</a>]"
      ]
     },
     "execution_count": 48,
     "metadata": {},
     "output_type": "execute_result"
    }
   ],
   "source": [
    "html = urllib.request.urlopen(url).read()\n",
    "soup = BeautifulSoup(html, 'html.parser')\n",
    "\n",
    "x = soup('a')\n",
    "x"
   ]
  },
  {
   "cell_type": "markdown",
   "metadata": {},
   "source": [
    "A list of all the anchor tags \n",
    "\n",
    "## 9. What is the most common Unicode encoding when moving data between systems?\n",
    "\n",
    "UTF - 8\n",
    "\n",
    "## 10. What is the decimal (Base-10) numeric value for the upper case letter 'G' in the SCII character set?\n",
    "\n",
    "71\n",
    "\n",
    "## 11. What word does the following sequence of numbers represent in ASCII:\n",
    "\n",
    "**108, 105, 110, 101**\n",
    "\n",
    "list\n",
    "\n",
    "## 12. How are strings stored internally in Python 3?\n",
    "\n",
    "Unicode\n",
    "\n",
    "## 13. When reading data across the network (i.e. from a URL) in Python 3, what method must be used to convert it to the internal format used by strings?\n",
    "\n",
    "decode()"
   ]
  }
 ],
 "metadata": {
  "kernelspec": {
   "display_name": "Python 3",
   "language": "python",
   "name": "python3"
  },
  "language_info": {
   "codemirror_mode": {
    "name": "ipython",
    "version": 3
   },
   "file_extension": ".py",
   "mimetype": "text/x-python",
   "name": "python",
   "nbconvert_exporter": "python",
   "pygments_lexer": "ipython3",
   "version": "3.7.4"
  }
 },
 "nbformat": 4,
 "nbformat_minor": 2
}
