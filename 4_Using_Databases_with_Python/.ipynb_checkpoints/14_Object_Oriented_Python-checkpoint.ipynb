{
 "cells": [
  {
   "cell_type": "markdown",
   "metadata": {},
   "source": [
    "### Chapter 14 - Object Oriented Python\n",
    "\n",
    "# Table of Contents\n",
    "\n",
    "14.1 Object Oriented Definitions and Terminology\n",
    "\n",
    "14.2 Our First Class and Object\n",
    "\n",
    "14.3 Object Life Cycle\n",
    "\n",
    "14.4 Object Inheritance\n",
    "\n",
    "Quiz 14\n",
    "\n",
    "Assignment 14\n",
    "\n",
    "\n",
    "# Unicode Characters and Strings\n",
    "\n",
    "## 1. ASCII\n",
    "\n",
    "- American Standard Code for Information Interchange\n",
    "\n",
    "## 2. Representing Simple Strings\n",
    "\n",
    "- **ord()** function tells us the numeric value of a simple ASCII character"
   ]
  },
  {
   "cell_type": "code",
   "execution_count": 1,
   "metadata": {},
   "outputs": [
    {
     "name": "stdout",
     "output_type": "stream",
     "text": [
      "72\n",
      "101\n",
      "10\n"
     ]
    }
   ],
   "source": [
    "print(ord('H'))\n",
    "print(ord('e'))\n",
    "print(ord('\\n'))"
   ]
  },
  {
   "cell_type": "markdown",
   "metadata": {},
   "source": [
    "## 3. Unicode\n",
    "\n",
    "- a universal code for millions of different characters and character sets\n",
    "\n",
    "## 4. Multi-Byte Characters\n",
    "\n",
    "- for computers to handle and represent a wide range of characters with more than one byte\n",
    "- **UTF-8**\n",
    "  - recommended practice for encoding data to be exchanged between systems"
   ]
  },
  {
   "cell_type": "code",
   "execution_count": 4,
   "metadata": {},
   "outputs": [
    {
     "data": {
      "text/plain": [
       "bytes"
      ]
     },
     "execution_count": 4,
     "metadata": {},
     "output_type": "execute_result"
    }
   ],
   "source": [
    "x = b'abc'\n",
    "type(x)"
   ]
  },
  {
   "cell_type": "code",
   "execution_count": 5,
   "metadata": {},
   "outputs": [
    {
     "data": {
      "text/plain": [
       "str"
      ]
     },
     "execution_count": 5,
     "metadata": {},
     "output_type": "execute_result"
    }
   ],
   "source": [
    "x = '이광춘'\n",
    "type(x)"
   ]
  },
  {
   "cell_type": "code",
   "execution_count": 6,
   "metadata": {},
   "outputs": [
    {
     "data": {
      "text/plain": [
       "str"
      ]
     },
     "execution_count": 6,
     "metadata": {},
     "output_type": "execute_result"
    }
   ],
   "source": [
    "x = u'이광춘'\n",
    "type(x)     # internally Unicode"
   ]
  },
  {
   "cell_type": "markdown",
   "metadata": {},
   "source": [
    "- In Python 3, all strings are internally Unicode\n",
    "- Working with string variables in Python programs and reading data from files usually \"just works\"\n",
    "- When we talk to a network resource using sockets or talk to a database, we have to encode and decode data (usually to UTF-8)"
   ]
  },
  {
   "cell_type": "markdown",
   "metadata": {},
   "source": [
    "# 14.1 Object Oriented Definitions and Terminology\n",
    "\n",
    "- A program is made up of many cooperating objects\n",
    "- Instead of being the \"whole program\" - each object is a little \"island\" within the program and cooperatively working with other objects\n",
    "- A program is made up of one or more objects working together - objects make use of each other's capabilities\n",
    "\n",
    "## Object\n",
    "\n",
    "- An object is a bit of self-contained Code in Data\n",
    "- A key aspect of the Object approach is to break the problem into smaller understandable parts (divide and conquer)\n",
    "- We have been using objects all along\n",
    "  - String, Integer, Dicionary, List\n",
    "- input -> object -> object -> output\n",
    "\n",
    "## Definitions\n",
    "\n",
    "- Class\n",
    "  - a template for objects\n",
    "- Method or message\n",
    "  - A defined capability of a class\n",
    "- Field or attribute\n",
    "  - A bit of data in a class\n",
    "- Object or instance\n",
    "  - A particular instance of a class\n",
    "  \n",
    "## Terminology: Class\n",
    "\n",
    "- Defines the abstact characteristics of a thing (object)\n",
    "  - including the thing's characteristics (its attributes, fields or properties) \n",
    "  - and the thing's behaviors (the things it can do, or methods, operations or features)\n",
    "  \n",
    "## Terminology: Object (Instance)\n",
    "\n",
    "- One can have an instance of a class or a particular object\n",
    "\n",
    "## Terminology: Method\n",
    "\n",
    "- An object's abilities ()\n",
    "\n",
    "## Some Python Objects"
   ]
  },
  {
   "cell_type": "code",
   "execution_count": 26,
   "metadata": {
    "scrolled": true
   },
   "outputs": [
    {
     "data": {
      "text/plain": [
       "str"
      ]
     },
     "execution_count": 26,
     "metadata": {},
     "output_type": "execute_result"
    }
   ],
   "source": [
    "x = 'abc'\n",
    "type(x)\n",
    "# dir(x)"
   ]
  },
  {
   "cell_type": "code",
   "execution_count": 20,
   "metadata": {},
   "outputs": [
    {
     "data": {
      "text/plain": [
       "float"
      ]
     },
     "execution_count": 20,
     "metadata": {},
     "output_type": "execute_result"
    }
   ],
   "source": [
    "x = 2.5\n",
    "type(x)"
   ]
  },
  {
   "cell_type": "code",
   "execution_count": 21,
   "metadata": {},
   "outputs": [
    {
     "data": {
      "text/plain": [
       "int"
      ]
     },
     "execution_count": 21,
     "metadata": {},
     "output_type": "execute_result"
    }
   ],
   "source": [
    "x = 2\n",
    "type(x)"
   ]
  },
  {
   "cell_type": "code",
   "execution_count": 23,
   "metadata": {},
   "outputs": [
    {
     "data": {
      "text/plain": [
       "list"
      ]
     },
     "execution_count": 23,
     "metadata": {},
     "output_type": "execute_result"
    }
   ],
   "source": [
    "x = list()\n",
    "type(x)\n",
    "# dir(x)"
   ]
  },
  {
   "cell_type": "code",
   "execution_count": 25,
   "metadata": {},
   "outputs": [
    {
     "data": {
      "text/plain": [
       "dict"
      ]
     },
     "execution_count": 25,
     "metadata": {},
     "output_type": "execute_result"
    }
   ],
   "source": [
    "x = dict()\n",
    "type(x)\n",
    "# dir(z)"
   ]
  },
  {
   "cell_type": "markdown",
   "metadata": {},
   "source": [
    "# 14.2 Our First Class and Object"
   ]
  },
  {
   "cell_type": "code",
   "execution_count": 28,
   "metadata": {},
   "outputs": [
    {
     "name": "stdout",
     "output_type": "stream",
     "text": [
      "So far 1\n",
      "So far 2\n",
      "So far 3\n"
     ]
    }
   ],
   "source": [
    "class PartyAnimal :               # class (object)\n",
    "    x = 0                         # Each object(PartyAnimal) has a bit of data)\n",
    "    \n",
    "    def party(self) :             # Each object has a bit of code \n",
    "        self.x = self.x + 1\n",
    "        print(\"So far\", self.x)\n",
    "\n",
    "        \n",
    "an = PartyAnimal()                # Construct a PartyAnimal object and store in a variable\n",
    "\n",
    "an.party()                        # Tell an object to run the party() code within it\n",
    "an.party()                        # = PartyAnimal.party(an)     an variable comes into 'self' in party()\n",
    "an.party()"
   ]
  },
  {
   "cell_type": "markdown",
   "metadata": {},
   "source": [
    "## 1. dir()\n",
    "\n",
    "- tells us what the methods available are\n",
    "- ignore the ones with underscores\n",
    "  - these are used by Python itself"
   ]
  },
  {
   "cell_type": "code",
   "execution_count": 29,
   "metadata": {},
   "outputs": [
    {
     "name": "stdout",
     "output_type": "stream",
     "text": [
      "Type: <class '__main__.PartyAnimal'>\n"
     ]
    }
   ],
   "source": [
    "print(\"Type:\", type(an))"
   ]
  },
  {
   "cell_type": "code",
   "execution_count": 30,
   "metadata": {},
   "outputs": [
    {
     "name": "stdout",
     "output_type": "stream",
     "text": [
      "Dir: ['__class__', '__delattr__', '__dict__', '__dir__', '__doc__', '__eq__', '__format__', '__ge__', '__getattribute__', '__gt__', '__hash__', '__init__', '__init_subclass__', '__le__', '__lt__', '__module__', '__ne__', '__new__', '__reduce__', '__reduce_ex__', '__repr__', '__setattr__', '__sizeof__', '__str__', '__subclasshook__', '__weakref__', 'party', 'x']\n"
     ]
    }
   ],
   "source": [
    "print(\"Dir:\", dir(an))            # party is the available method in the PartyAnimal class"
   ]
  },
  {
   "cell_type": "markdown",
   "metadata": {},
   "source": [
    "# 14.3 Object Life Cycle\n",
    "\n",
    "- Objects are created, used and discarded\n",
    "- We have special blocks of code (methods) that get called\n",
    "  - At the moment of creation (constructor)\n",
    "  - At the moment of destruction (destructor)\n",
    "- Constructors are used a lot\n",
    "- Destructors are seldom used\n",
    "\n",
    "## 1. Constructor\n",
    "\n",
    "- In Object Oriented Programming, a **constructor** in a class is a special block of statements called when an **object is created**\n",
    "- The primary purpose of the constructor is to set up some instance variables to have the proper initial values when the object is created\n",
    "\n"
   ]
  },
  {
   "cell_type": "code",
   "execution_count": 1,
   "metadata": {},
   "outputs": [
    {
     "name": "stdout",
     "output_type": "stream",
     "text": [
      "Sally constructed\n",
      "Sally party count 1\n",
      "Jim constructed\n",
      "Jim party count 1\n",
      "Sally party count 2\n",
      "I am destructed 2\n"
     ]
    }
   ],
   "source": [
    "class PartyAnimal :             \n",
    "    x = 0                       \n",
    "    \n",
    "    def __init__(self, z) :        \n",
    "        self.name = z\n",
    "        print(self.name, \"constructed\")\n",
    "        \n",
    "    def party(self) :\n",
    "        self.x = self.x + 1\n",
    "        print(self.name, \"party count\", self.x)\n",
    "    \n",
    "    # destructor\n",
    "    def __del__(self) :\n",
    "        print('I am destructed', self.x)\n",
    "\n",
    "# instance s\n",
    "s = PartyAnimal(\"Sally\")        # Sally constructed\n",
    "s.party()                       # Sally party count 1\n",
    "\n",
    "# instance j\n",
    "j = PartyAnimal(\"Jim\")          # Jim constructed  \n",
    "j.party()                       # Jim party count 1\n",
    "\n",
    "s.party()                       # Sally party count 2\n",
    "s = 40                          # I am destructed 2"
   ]
  },
  {
   "cell_type": "markdown",
   "metadata": {},
   "source": [
    "# 14.4 Object Inheritance\n",
    "\n",
    "## 1. Inheritance\n",
    "\n",
    "- When we make a new class, we can reuse an existing class and **inherit** all the capabilities of an existing class and then add our own little bit to make our new class\n",
    "- Another form of store and resue\n",
    "- Write once - reuse many times\n",
    "- The new class (child) has all the capabilities of the old class (parent) - and then some more\n",
    "\n",
    "## 2. Terminology: Inheritance\n",
    "\n",
    "- \"Subclasses\" are more specialized versions of a class, which **inherit** attributes and behaviors from their parent classes, and can introduce their own"
   ]
  },
  {
   "cell_type": "code",
   "execution_count": 1,
   "metadata": {},
   "outputs": [
    {
     "name": "stdout",
     "output_type": "stream",
     "text": [
      "Sally constructed\n",
      "Sally party count 1\n",
      "Jim constructed\n",
      "Jim party count 1\n",
      "Jim party count 2\n",
      "Jim points 7\n"
     ]
    }
   ],
   "source": [
    "class PartyAnimal :\n",
    "    x = 0\n",
    "    name = \"\"\n",
    "    \n",
    "    def __init__(self, nam) :\n",
    "        self.name = nam\n",
    "        print(self.name, \"constructed\")\n",
    "    \n",
    "    def party(self) :\n",
    "        self.x = self.x + 1\n",
    "        print(self.name, \"party count\", self.x)\n",
    "\n",
    "class FootballFan(PartyAnimal) :\n",
    "    points = 0\n",
    "    \n",
    "    def touchdown(self) :\n",
    "        self.points = self.points + 7\n",
    "        self.party()\n",
    "        print(self.name, \"points\", self.points)\n",
    "        \n",
    "s = PartyAnimal(\"Sally\")          # Sally constructed\n",
    "s. party()                        # Sally party count 1\n",
    "\n",
    "j = FootballFan(\"Jim\")            # Jim constructed\n",
    "j.party()                         # Jim party count 1\n",
    "j.touchdown()                     # Jim party count 2\n",
    "                                  # Jim points 7"
   ]
  }
 ],
 "metadata": {
  "kernelspec": {
   "display_name": "Python 3",
   "language": "python",
   "name": "python3"
  },
  "language_info": {
   "codemirror_mode": {
    "name": "ipython",
    "version": 3
   },
   "file_extension": ".py",
   "mimetype": "text/x-python",
   "name": "python",
   "nbconvert_exporter": "python",
   "pygments_lexer": "ipython3",
   "version": "3.7.4"
  }
 },
 "nbformat": 4,
 "nbformat_minor": 2
}
