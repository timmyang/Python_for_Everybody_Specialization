{
 "cells": [
  {
   "cell_type": "markdown",
   "metadata": {},
   "source": [
    "### Chapter 15_1 - Basic Structured Query Language\n",
    "\n",
    "# Table of Contents\n",
    "\n",
    "15.1 Relational Databases\n",
    "\n",
    "15.2 Using Databases\n",
    "\n",
    "15.3 Single Table CRUD\n",
    "\n",
    "Quiz 15 - 1\n",
    "Quiz 15 - 2\n",
    "\n",
    "Assignment 15\n",
    "\n",
    "\n",
    "# 15.1 Relational Databases\n",
    "\n",
    "## 1. Terminology\n",
    "\n",
    "- Database - contains many tables\n",
    "- Relation (or table) - contains tuples and attributes\n",
    "- Tupe (or row) - a set of fields that generally represents an \"object\" like a person or a music track\n",
    "- Attribute (also column or field) - one of possibily many elements of data corresponding to the object represented by the row\n",
    "\n",
    "# 15.2 Using Databases\n",
    "\n",
    "## 1. Two Roles in Large Projects\n",
    "\n",
    "- **Application Developer**\n",
    "  - builds the logic for the application, the look and feel of the application\n",
    "  - monitors the application for problems\n",
    "\n",
    "- **Database Administrator**\n",
    "  - Monitors and adjusts the database as the program runs in production\n",
    "\n",
    "## 2. Database Schema/Model\n",
    "\n",
    "- **structure or format of a database**, described in a formal language supported by the database management system\n",
    "- In other words, a \"database model\" is the application of a data model when used in conjunction with a database management system\n",
    "\n",
    "# 15.3 Single Table CRUD\n",
    "\n",
    "Create, Retrieve, Update, Delete\n",
    "\n",
    "## 1. SQL Create Table"
   ]
  },
  {
   "cell_type": "code",
   "execution_count": 9,
   "metadata": {},
   "outputs": [
    {
     "data": {
      "text/plain": [
       "<sqlite3.Cursor at 0x7f94796bff80>"
      ]
     },
     "execution_count": 9,
     "metadata": {},
     "output_type": "execute_result"
    }
   ],
   "source": [
    "import sqlite3\n",
    "\n",
    "conn = sqlite3.connect('emaildb.sqlite')\n",
    "cur = conn.cursor()\n",
    "\n",
    "cur.execute('''CREATE TABLE Users(\n",
    "                                    name  VARCHAR(128)\n",
    "                                  , email VARCHAR(128)\n",
    "                                 )\n",
    "        ''')"
   ]
  },
  {
   "cell_type": "markdown",
   "metadata": {},
   "source": [
    "## 2. SQL Insert\n",
    "\n",
    "- The Insert statement inserts a row into a table"
   ]
  },
  {
   "cell_type": "code",
   "execution_count": 10,
   "metadata": {},
   "outputs": [
    {
     "data": {
      "text/plain": [
       "<sqlite3.Cursor at 0x7f94796bff80>"
      ]
     },
     "execution_count": 10,
     "metadata": {},
     "output_type": "execute_result"
    }
   ],
   "source": [
    "cur.execute('''INSERT INTO Users (name,      email) \n",
    "               VALUES            ('Kristin', 'kf@umich.edu')\n",
    "        ''')"
   ]
  },
  {
   "cell_type": "markdown",
   "metadata": {},
   "source": [
    "## 3. SQL Delete"
   ]
  },
  {
   "cell_type": "code",
   "execution_count": 11,
   "metadata": {},
   "outputs": [
    {
     "data": {
      "text/plain": [
       "<sqlite3.Cursor at 0x7f94796bff80>"
      ]
     },
     "execution_count": 11,
     "metadata": {},
     "output_type": "execute_result"
    }
   ],
   "source": [
    "cur.execute('''DELETE FROM Users \n",
    "               WHERE       email = 'fred@ucmich.edu'\n",
    "        ''')"
   ]
  },
  {
   "cell_type": "markdown",
   "metadata": {},
   "source": [
    "## 4. SQL Update"
   ]
  },
  {
   "cell_type": "code",
   "execution_count": 12,
   "metadata": {},
   "outputs": [
    {
     "data": {
      "text/plain": [
       "<sqlite3.Cursor at 0x7f94796bff80>"
      ]
     },
     "execution_count": 12,
     "metadata": {},
     "output_type": "execute_result"
    }
   ],
   "source": [
    "cur.execute('''UPDATE Users SET name = 'Charles' \n",
    "               WHERE            email = 'csev@umich.edu'\n",
    "        ''')"
   ]
  },
  {
   "cell_type": "markdown",
   "metadata": {},
   "source": [
    "## 5. SQL Select"
   ]
  },
  {
   "cell_type": "code",
   "execution_count": 14,
   "metadata": {},
   "outputs": [
    {
     "data": {
      "text/plain": [
       "<sqlite3.Cursor at 0x7f94796bff80>"
      ]
     },
     "execution_count": 14,
     "metadata": {},
     "output_type": "execute_result"
    }
   ],
   "source": [
    "cur.execute('''SELECT * \n",
    "               FROM   Users\n",
    "        ''')"
   ]
  },
  {
   "cell_type": "code",
   "execution_count": 15,
   "metadata": {},
   "outputs": [
    {
     "data": {
      "text/plain": [
       "<sqlite3.Cursor at 0x7f94796bff80>"
      ]
     },
     "execution_count": 15,
     "metadata": {},
     "output_type": "execute_result"
    }
   ],
   "source": [
    "cur.execute('''SELECT * \n",
    "               FROM   Users \n",
    "               WHERE  email = 'csev@umich.edu'\n",
    "        ''')"
   ]
  },
  {
   "cell_type": "markdown",
   "metadata": {},
   "source": [
    "## 6. SQL Order By"
   ]
  },
  {
   "cell_type": "code",
   "execution_count": 16,
   "metadata": {},
   "outputs": [
    {
     "data": {
      "text/plain": [
       "<sqlite3.Cursor at 0x7f94796bff80>"
      ]
     },
     "execution_count": 16,
     "metadata": {},
     "output_type": "execute_result"
    }
   ],
   "source": [
    "cur.execute('''SELECT   * \n",
    "               FROM     Users \n",
    "               ORDER BY email\n",
    "        ''')"
   ]
  },
  {
   "cell_type": "code",
   "execution_count": 17,
   "metadata": {},
   "outputs": [
    {
     "data": {
      "text/plain": [
       "<sqlite3.Cursor at 0x7f94796bff80>"
      ]
     },
     "execution_count": 17,
     "metadata": {},
     "output_type": "execute_result"
    }
   ],
   "source": [
    "cur.execute('''SELECT   * \n",
    "               FROM     Users \n",
    "               ORDER BY name\n",
    "        ''')"
   ]
  },
  {
   "cell_type": "markdown",
   "metadata": {},
   "source": [
    "## 7. Counting Email in a Database"
   ]
  },
  {
   "cell_type": "code",
   "execution_count": 5,
   "metadata": {},
   "outputs": [
    {
     "name": "stdout",
     "output_type": "stream",
     "text": [
      "Enter file name: \n",
      "cwen@iupui.edu\\ 5\n",
      "zqian@umich.edu\\ 4\n",
      "david.horwitz@uct.ac.za\\ 4\n",
      "louis@media.berkeley.edu\\ 3\n",
      "gsilver@umich.edu\\ 3\n",
      "stephen.marquard@uct.ac.za\\ 2\n",
      "rjlowe@iupui.edu\\ 2\n",
      "wagnermr@iupui.edu\\ 1\n",
      "antranig@caret.cam.ac.uk\\ 1\n",
      "gopal.ramasammycook@gmail.com\\ 1\n"
     ]
    }
   ],
   "source": [
    "import sqlite3\n",
    "\n",
    "conn = sqlite3.connect('emaildb.sqlite')\n",
    "cur = conn.cursor()\n",
    "\n",
    "cur.execute('''DROP TABLE IF EXISTS Counts''')\n",
    "cur.execute('''CREATE TABLE Counts (email TEXT, count INTEGER)''')\n",
    "\n",
    "fname = input('Enter file name: ')   # mbox-short.rtf\n",
    "\n",
    "if (len(fname) < 1) :\n",
    "    fname = 'mbox-short.rtf'\n",
    "\n",
    "fh = open(fname)\n",
    "\n",
    "for line in fh :\n",
    "    \n",
    "    if not line.startswith('From: ') :\n",
    "        continue\n",
    "    \n",
    "    pieces = line.split()\n",
    "    email  = pieces[1]\n",
    "    \n",
    "    cur.execute('''SELECT count\n",
    "                   FROM   Counts\n",
    "                   WHERE  email = ?\n",
    "            ''', (email, ))          # a tuple\n",
    "    \n",
    "    row = cur.fetchone()\n",
    "    \n",
    "    if row is None :\n",
    "        cur.execute('''INSERT INTO Counts (email, count)\n",
    "                       VALUES             (    ?,     1)\n",
    "                ''', (email, ))\n",
    "    \n",
    "    else :\n",
    "        cur.execute('''UPDATE Counts SET count = count + 1\n",
    "                       WHERE email = ?\n",
    "                ''', (email, ))\n",
    "    \n",
    "    conn.commit()\n",
    "    \n",
    "# https://www.sqlite.org/lang_select.html\n",
    "sqlstr = '''SELECT   email, count\n",
    "            FROM     Counts\n",
    "            ORDER BY count\n",
    "            DESC     LIMIT 10'''\n",
    "\n",
    "for row in cur.execute(sqlstr) :\n",
    "    print(str(row[0]), row[1])\n",
    "    \n",
    "cur.close()"
   ]
  },
  {
   "cell_type": "markdown",
   "metadata": {},
   "source": [
    "# Quiz 15\n",
    "\n",
    "**Instructions**\n",
    "\n",
    "If you don't already have it, install the SQLite Browser from http://sqlitebrowser.org/.\n",
    "\n",
    "Then, create a SQLITE database or use an existing database and create a table in the database called \"Ages\":"
   ]
  },
  {
   "cell_type": "code",
   "execution_count": 7,
   "metadata": {},
   "outputs": [],
   "source": [
    "# CREATE TABLE Ages ( \n",
    "#   name VARCHAR(128), \n",
    "#   age INTEGER\n",
    "# )"
   ]
  },
  {
   "cell_type": "markdown",
   "metadata": {},
   "source": [
    "Then make sure the table is empty by deleting any rows that you previously inserted, and insert these rows and only these rows with the following commands:"
   ]
  },
  {
   "cell_type": "code",
   "execution_count": 8,
   "metadata": {},
   "outputs": [],
   "source": [
    "# DELETE FROM Ages;\n",
    "# INSERT INTO Ages (name, age) VALUES ('Tymon', 36);\n",
    "# INSERT INTO Ages (name, age) VALUES ('Veronika', 33);\n",
    "# INSERT INTO Ages (name, age) VALUES ('Kayci', 36);\n",
    "# INSERT INTO Ages (name, age) VALUES ('Walid', 36);\n",
    "# INSERT INTO Ages (name, age) VALUES ('Oluwatobiloba', 33);\n",
    "# INSERT INTO Ages (name, age) VALUES ('Malik', 18);"
   ]
  },
  {
   "cell_type": "markdown",
   "metadata": {},
   "source": [
    "Once the inserts are done, run the following SQL command:"
   ]
  },
  {
   "cell_type": "code",
   "execution_count": 9,
   "metadata": {},
   "outputs": [],
   "source": [
    "# SELECT hex(name || age) AS X FROM Ages ORDER BY X"
   ]
  },
  {
   "cell_type": "markdown",
   "metadata": {},
   "source": [
    "Find the **first** row in the resulting record set and enter the long string that looks like **53656C696E613333.**\n",
    "\n",
    "**Note:** This assignment must be done using SQLite - in particular, the SELECT query above will not work in any other database. So you cannot use MySQL or Oracle for this assignment."
   ]
  },
  {
   "cell_type": "code",
   "execution_count": 1,
   "metadata": {},
   "outputs": [
    {
     "data": {
      "text/plain": [
       "<sqlite3.Cursor at 0x7fd2d70dac00>"
      ]
     },
     "execution_count": 1,
     "metadata": {},
     "output_type": "execute_result"
    }
   ],
   "source": [
    "import sqlite3\n",
    "\n",
    "conn = sqlite3.connect('emaildb.sqlite')\n",
    "cur = conn.cursor()\n",
    "\n",
    "cur.execute('''DROP TABLE IF EXISTS Ages''')\n",
    "\n",
    "cur.execute('''CREATE TABLE Ages (\n",
    "                                   name VARCHR(128)\n",
    "                                 , age  INTEGER\n",
    "                                 )\n",
    "        ''')\n",
    "\n",
    "cur.execute('''DELETE FROM Ages''')\n",
    "cur.execute('''INSERT INTO Ages (name, age) VALUES ('Tymon', 36)''')\n",
    "cur.execute('''INSERT INTO Ages (name, age) VALUES ('Veronika', 33)''')\n",
    "cur.execute('''INSERT INTO Ages (name, age) VALUES ('Kayci', 36)''')\n",
    "cur.execute('''INSERT INTO Ages (name, age) VALUES ('Walid', 36)''')\n",
    "cur.execute('''INSERT INTO Ages (name, age) VALUES ('Oluwatobiloba', 33)''')\n",
    "cur.execute('''INSERT INTO Ages (name, age) VALUES ('Malik', 18)''')\n",
    "\n",
    "cur.execute('''SELECT   hex(name || age) AS X\n",
    "               FROM     Ages\n",
    "               ORDER BY X\n",
    "        ''')\n",
    "\n",
    "cur.commit()\n",
    "cur.close()"
   ]
  },
  {
   "cell_type": "markdown",
   "metadata": {},
   "source": [
    "# Quiz 15 - 2\n",
    "\n",
    "To get credit for this assignment, perform the instructions below and upload your SQLite3 database here:\n",
    "\n",
    "(Must have a .sqlite suffix)\n",
    "\n",
    "Hint: The top organizational count is 536.\n",
    "\n",
    "You do not need to export or convert the database - simply upload the **.sqlite** file that your program creates. See the example code for the use of the **connect()** statement.\n",
    "\n",
    "### Counting Organizations\n",
    "\n",
    "This application will read the mailbox data **(mbox.txt)** and count the number of email messages per organization (i.e. domain name of the email address) using a database with the following schema to maintain the counts.\n",
    "\n",
    "CREATE TABLE Counts (org TEXT, count INTEGER)\n",
    "\n",
    "When you have run the program on **mbox.txt** upload the resulting database file above for grading.\n",
    "\n",
    "If you run the program multiple times in testing or with dfferent files, make sure to empty out the data before each run.\n",
    "\n",
    "You can use this code as a starting point for your application: http://www.py4e.com/code3/emaildb.py.\n",
    "\n",
    "The data file for this application is the same as in previous assignments: http://www.py4e.com/code3/mbox.txt.\n",
    "\n",
    "Because the sample code is using an **UPDATE** statement and committing the results to the database as each record is read in the loop, it might take as long as a few minutes to process all the data. The commit insists on completely writing all the data to disk every time it is called.\n",
    "\n",
    "The program can be speeded up greatly by moving the commit operation outside of the loop. In any database program, there is a balance between the number of operations you execute between commits and the importance of not losing the results of operations that have not yet been committed."
   ]
  },
  {
   "cell_type": "code",
   "execution_count": 6,
   "metadata": {},
   "outputs": [
    {
     "name": "stdout",
     "output_type": "stream",
     "text": [
      "Enter file name: \n",
      "536\n"
     ]
    }
   ],
   "source": [
    "import sqlite3\n",
    "\n",
    "conn = sqlite3.connect('emaildb.sqlite')\n",
    "cur = conn.cursor()\n",
    "\n",
    "cur.execute('''DROP TABLE IF EXISTS Counts''')\n",
    "\n",
    "cur.execute('''CREATE TABLE Counts (org TEXT, count INTEGER)''')\n",
    "\n",
    "fname = input('Enter file name: ')\n",
    "\n",
    "if (len(fname) < 1) : fname = 'mbox.txt'\n",
    "    \n",
    "fh = open(fname)\n",
    "\n",
    "for line in fh :\n",
    "    \n",
    "    if not line.startswith('From: ') : \n",
    "        continue\n",
    "        \n",
    "    pieces = line.split()[1]\n",
    "    org = pieces.split('@')[1]\n",
    "    \n",
    "    cur.execute('SELECT count FROM Counts WHERE org = ? ', (org, ))\n",
    "    row = cur.fetchone()\n",
    "    \n",
    "    if row is None :\n",
    "        cur.execute('''INSERT INTO Counts (org, count) \n",
    "                       VALUES             (  ?,     1)\n",
    "                    ''', ( org,))\n",
    "    else : \n",
    "        cur.execute('UPDATE Counts SET count = count + 1 \n",
    "                    WHERE org = ?', \n",
    "                    (org, ))\n",
    "\n",
    "    conn.commit()\n",
    "\n",
    "# https://www.sqlite.org/lang_select.html\n",
    "sqlstr = 'SELECT org, count FROM Counts ORDER BY count DESC LIMIT 10'\n",
    "\n",
    "for row in cur.execute(sqlstr) :\n",
    "    print(str(row[0]), row[1])\n",
    "\n",
    "cur.close()"
   ]
  },
  {
   "cell_type": "code",
   "execution_count": 1,
   "metadata": {},
   "outputs": [
    {
     "name": "stdout",
     "output_type": "stream",
     "text": [
      "Enter file name: \n",
      "zqian@umich.edu\\ 195\n",
      "mmmay@indiana.edu\\ 161\n",
      "cwen@iupui.edu\\ 158\n",
      "chmaurer@iupui.edu\\ 111\n",
      "aaronz@vt.edu\\ 110\n",
      "ian@caret.cam.ac.uk\\ 96\n",
      "jimeng@umich.edu\\ 93\n",
      "rjlowe@iupui.edu\\ 90\n",
      "dlhaines@umich.edu\\ 84\n",
      "david.horwitz@uct.ac.za\\ 67\n"
     ]
    }
   ],
   "source": []
  },
  {
   "cell_type": "code",
   "execution_count": null,
   "metadata": {},
   "outputs": [],
   "source": []
  },
  {
   "cell_type": "code",
   "execution_count": null,
   "metadata": {},
   "outputs": [],
   "source": []
  }
 ],
 "metadata": {
  "kernelspec": {
   "display_name": "Python 3",
   "language": "python",
   "name": "python3"
  },
  "language_info": {
   "codemirror_mode": {
    "name": "ipython",
    "version": 3
   },
   "file_extension": ".py",
   "mimetype": "text/x-python",
   "name": "python",
   "nbconvert_exporter": "python",
   "pygments_lexer": "ipython3",
   "version": "3.7.4"
  }
 },
 "nbformat": 4,
 "nbformat_minor": 2
}
