{
 "cells": [
  {
   "cell_type": "markdown",
   "metadata": {},
   "source": [
    "### Chapter 3 - Conditional Code\n",
    "\n",
    "# Table of Contents\n",
    "\n",
    "3.1 Conditional Statements  \n",
    "\n",
    "- 1. If Statement\n",
    "- 2. Comparison Operators\n",
    "- 3. One-Way Decisions\n",
    "- 4. Nested Decisions\n",
    "- 5. Two-Way Decisions with Else\n",
    "- 6. Multi-Way\n",
    "- 7. The try/except Structure\n",
    "\n",
    "Quiz 3\n",
    "\n",
    "Assignment 3"
   ]
  },
  {
   "cell_type": "markdown",
   "metadata": {},
   "source": [
    "# 3.1 Conditional Statements\n",
    "\n",
    "## 1. If Statement"
   ]
  },
  {
   "cell_type": "code",
   "execution_count": 1,
   "metadata": {},
   "outputs": [
    {
     "name": "stdout",
     "output_type": "stream",
     "text": [
      "Smaller\n",
      "Finis\n"
     ]
    }
   ],
   "source": [
    "x = 5\n",
    "\n",
    "if x < 10:\n",
    "    print(\"Smaller\")\n",
    "if x > 20:\n",
    "    print(\"Bigger\")\n",
    "    \n",
    "print(\"Finis\")"
   ]
  },
  {
   "cell_type": "markdown",
   "metadata": {},
   "source": [
    "## 2. Comparison Operators\n",
    "\n",
    "- **Boolean expression** ask a question and produce a Yes or No result which we use to control program flow\n",
    "- **Boolean expressions** using **comparison operators** evaluate to True/False or Yes/No\n",
    "- Comparison operators look at variables but do not change the variables\n",
    "\n",
    "**<**  \n",
    "Less than  \n",
    "**<=**  \n",
    "Less than or Equal to  \n",
    "**==**  \n",
    "Equal to  \n",
    "**>=**  \n",
    "Greater than or Equal to  \n",
    "**>**  \n",
    "Greater than  \n",
    "**!=**  \n",
    "Not equal  \n",
    "\n",
    "**Remember:** \"**=**\" is used for assignment."
   ]
  },
  {
   "cell_type": "code",
   "execution_count": 2,
   "metadata": {},
   "outputs": [
    {
     "name": "stdout",
     "output_type": "stream",
     "text": [
      "Equals 5\n",
      "Greater than 4\n",
      "Greater than or Equals 5\n",
      "Less than 6\n",
      "Less than or Equals 5\n",
      "Not equal 6\n"
     ]
    }
   ],
   "source": [
    "x = 5\n",
    "\n",
    "if x == 5:\n",
    "    print(\"Equals 5\")\n",
    "if x > 4:\n",
    "    print(\"Greater than 4\")\n",
    "if x >= 5:\n",
    "    print(\"Greater than or Equals 5\")\n",
    "if x < 6:\n",
    "    print(\"Less than 6\")\n",
    "if x <= 5:\n",
    "    print(\"Less than or Equals 5\")\n",
    "if x != 6:\n",
    "    print(\"Not equal 6\")"
   ]
  },
  {
   "cell_type": "markdown",
   "metadata": {},
   "source": [
    "## 3. One-Way Decisions"
   ]
  },
  {
   "cell_type": "code",
   "execution_count": 3,
   "metadata": {},
   "outputs": [
    {
     "name": "stdout",
     "output_type": "stream",
     "text": [
      "Before 5\n",
      "Is 5\n",
      "Is Still 5\n",
      "Third 5\n",
      "Afterwards 5\n",
      "Before 6\n",
      "Afterwards 6\n"
     ]
    }
   ],
   "source": [
    "x = 5\n",
    "\n",
    "print(\"Before 5\")\n",
    "\n",
    "if x == 5:\n",
    "    print(\"Is 5\")\n",
    "    print(\"Is Still 5\")\n",
    "    print(\"Third 5\")\n",
    "\n",
    "print(\"Afterwards 5\")\n",
    "\n",
    "print(\"Before 6\")\n",
    "\n",
    "if x == 6:\n",
    "    print(\"Is 6\")\n",
    "    print(\"Is Still 6\")\n",
    "    print(\"Third 6\")\n",
    "    \n",
    "print(\"Afterwards 6\")"
   ]
  },
  {
   "cell_type": "markdown",
   "metadata": {},
   "source": [
    "## 4. Nested Decisions"
   ]
  },
  {
   "cell_type": "code",
   "execution_count": 4,
   "metadata": {},
   "outputs": [
    {
     "name": "stdout",
     "output_type": "stream",
     "text": [
      "More than one\n",
      "Less than 100\n",
      "All done\n"
     ]
    }
   ],
   "source": [
    "x = 42\n",
    "\n",
    "if x > 1:\n",
    "    print(\"More than one\")\n",
    "    \n",
    "    if x < 100:\n",
    "        print(\"Less than 100\")\n",
    "\n",
    "print(\"All done\")"
   ]
  },
  {
   "cell_type": "markdown",
   "metadata": {},
   "source": [
    "## 5. Two-Way Decisions with Else"
   ]
  },
  {
   "cell_type": "code",
   "execution_count": 5,
   "metadata": {},
   "outputs": [
    {
     "name": "stdout",
     "output_type": "stream",
     "text": [
      "Bigger\n",
      "All done\n"
     ]
    }
   ],
   "source": [
    "x = 4\n",
    "\n",
    "if x > 2:\n",
    "    print(\"Bigger\")\n",
    "else :\n",
    "    print(\"Smaller\")\n",
    "    \n",
    "print(\"All done\")"
   ]
  },
  {
   "cell_type": "markdown",
   "metadata": {},
   "source": [
    "## 6. Multi-Way"
   ]
  },
  {
   "cell_type": "code",
   "execution_count": 6,
   "metadata": {},
   "outputs": [
    {
     "name": "stdout",
     "output_type": "stream",
     "text": [
      "Medium\n",
      "All done\n"
     ]
    }
   ],
   "source": [
    "x = 5\n",
    "\n",
    "if x < 2:\n",
    "    print(\"small\")\n",
    "elif x < 10:\n",
    "    print(\"Medium\")\n",
    "else :\n",
    "    print(\"LARGE\")\n",
    "\n",
    "print(\"All done\")"
   ]
  },
  {
   "cell_type": "markdown",
   "metadata": {},
   "source": [
    "- **Without Else**"
   ]
  },
  {
   "cell_type": "code",
   "execution_count": 7,
   "metadata": {},
   "outputs": [
    {
     "name": "stdout",
     "output_type": "stream",
     "text": [
      "Medium\n",
      "All done\n"
     ]
    }
   ],
   "source": [
    "# No Else\n",
    "x = 5\n",
    "\n",
    "if x < 2:\n",
    "    print(\"Small\")\n",
    "elif x < 10:\n",
    "    print(\"Medium\")\n",
    "\n",
    "print(\"All done\")"
   ]
  },
  {
   "cell_type": "markdown",
   "metadata": {},
   "source": [
    "## 7. The try/except Structure\n",
    "\n",
    "- You surround a dangerous section of code with **try** and **except**\n",
    "- If the code in the **try** works - the **execpt** is skipped\n",
    "- If the code in the **try** fails - it jumps to the **except** section 5"
   ]
  },
  {
   "cell_type": "code",
   "execution_count": 8,
   "metadata": {},
   "outputs": [
    {
     "ename": "ValueError",
     "evalue": "invalid literal for int() with base 10: 'Hello Bob'",
     "output_type": "error",
     "traceback": [
      "\u001b[0;31m---------------------------------------------------------------------------\u001b[0m",
      "\u001b[0;31mValueError\u001b[0m                                Traceback (most recent call last)",
      "\u001b[0;32m<ipython-input-8-9154a3146500>\u001b[0m in \u001b[0;36m<module>\u001b[0;34m\u001b[0m\n\u001b[1;32m      1\u001b[0m \u001b[0mastr\u001b[0m \u001b[0;34m=\u001b[0m \u001b[0;34m\"Hello Bob\"\u001b[0m\u001b[0;34m\u001b[0m\u001b[0;34m\u001b[0m\u001b[0m\n\u001b[0;32m----> 2\u001b[0;31m \u001b[0mistr\u001b[0m \u001b[0;34m=\u001b[0m \u001b[0mint\u001b[0m\u001b[0;34m(\u001b[0m\u001b[0mastr\u001b[0m\u001b[0;34m)\u001b[0m\u001b[0;34m\u001b[0m\u001b[0;34m\u001b[0m\u001b[0m\n\u001b[0m",
      "\u001b[0;31mValueError\u001b[0m: invalid literal for int() with base 10: 'Hello Bob'"
     ]
    }
   ],
   "source": [
    "astr = \"Hello Bob\"\n",
    "istr = int(astr)"
   ]
  },
  {
   "cell_type": "code",
   "execution_count": 9,
   "metadata": {},
   "outputs": [
    {
     "name": "stdout",
     "output_type": "stream",
     "text": [
      "First -1\n"
     ]
    }
   ],
   "source": [
    "astr = \"Hello Bob\"\n",
    "\n",
    "try:\n",
    "    istr = int(astr)\n",
    "except:\n",
    "    istr = -1\n",
    "    \n",
    "print(\"First\", istr)"
   ]
  },
  {
   "cell_type": "code",
   "execution_count": 10,
   "metadata": {},
   "outputs": [
    {
     "name": "stdout",
     "output_type": "stream",
     "text": [
      "Second 123\n"
     ]
    }
   ],
   "source": [
    "astr = \"123\"\n",
    "\n",
    "try:\n",
    "    istr = int(astr)\n",
    "except:\n",
    "    istr = -1\n",
    "    \n",
    "print(\"Second\", istr)"
   ]
  },
  {
   "cell_type": "markdown",
   "metadata": {},
   "source": [
    "- **Sample try/except**"
   ]
  },
  {
   "cell_type": "code",
   "execution_count": 11,
   "metadata": {},
   "outputs": [
    {
     "name": "stdout",
     "output_type": "stream",
     "text": [
      "Enter a positive number: 1\n",
      "Nice work!\n"
     ]
    }
   ],
   "source": [
    "rawstr = input(\"Enter a positive number: \")\n",
    "\n",
    "try:\n",
    "    ival = int(rawstr)\n",
    "except:\n",
    "    ival = -1\n",
    "    \n",
    "if ival > 0:\n",
    "    print(\"Nice work!\")\n",
    "else:\n",
    "    print(\"Not a number!\")"
   ]
  },
  {
   "cell_type": "markdown",
   "metadata": {},
   "source": [
    "# Quiz 3"
   ]
  },
  {
   "cell_type": "markdown",
   "metadata": {},
   "source": [
    "#### 1. What do we do to a Python statement that is immediately after an if statement to indicate that the statement is to be executed only when the if statement is true?  \n",
    "\n",
    "(Answer): 1\n",
    "\n",
    "1. Indent the line below the if statement\n",
    "2. Underline all of the conditional code\n",
    "3. Begin the statement with a curly brace {\n",
    "4. Start the statement with a \"#\" character\n",
    "\n",
    "#### 2. Which of these operators is not a comparison / logical operator?\n",
    "\n",
    "(Answer): 1\n",
    "\n",
    "1. \"=\"  \n",
    "2. \"<=\"\n",
    "2. \"==\"  \n",
    "3. \">=\"  \n",
    "4. \"!=\"  \n",
    "\n",
    "#### 3. What is true about the following code segment:"
   ]
  },
  {
   "cell_type": "code",
   "execution_count": 12,
   "metadata": {},
   "outputs": [
    {
     "name": "stdout",
     "output_type": "stream",
     "text": [
      "Is 5\n",
      "Is Still 5\n",
      "Third 5\n"
     ]
    }
   ],
   "source": [
    "x = 5\n",
    "\n",
    "if x == 5:\n",
    "    print(\"Is 5\")\n",
    "    print(\"Is Still 5\")\n",
    "    print(\"Third 5\")"
   ]
  },
  {
   "cell_type": "markdown",
   "metadata": {},
   "source": [
    "(Answer): 1\n",
    "\n",
    "1. Depending on the value of **x**, either all three of the print statements will execute or none of the statements will execute\n",
    "2. The string \"Is 5\" will always print out regardless of the value for **x**.\n",
    "3. The string \"Is 5\" will never print out regardless of the value for **x**.\n",
    "4. Only two of the three print statements will print out if the value of *x* is less than zero.\n",
    "\n",
    "#### 4. When you have multiple lines in an if block, how do you indicate the end of the if block?\n",
    "\n",
    "(Answer): 3\n",
    "\n",
    "1. You omit the semicoln; on the last line of the if block\n",
    "2. You use a curly brace { after the last line of the if block\n",
    "3. You de-indent the next line past the if block to the same level of indent as the original if statement\n",
    "4. You capitalize the first letter of the line following the end of the if block\n",
    "\n",
    "#### 5. You look at the following text:"
   ]
  },
  {
   "cell_type": "code",
   "execution_count": 13,
   "metadata": {},
   "outputs": [],
   "source": [
    "if x == 6:\n",
    "    print(\"Is 6\")\n",
    "    print(\"Is Still 6\")\n",
    "    print(\"Third 6\")"
   ]
  },
  {
   "cell_type": "markdown",
   "metadata": {},
   "source": [
    "#### It looks perfect but Python is giving you an \"Indentation Error\" on the second print statement. What is the most likely reason?\n",
    "\n",
    "(Answer): 1\n",
    "\n",
    "1. You have mixed tabs and spaces in the file\n",
    "2. Python has reached its limit on the largest Python program that can be run\n",
    "3. Python thinks \"Still\" is a mis-spelled word in the string\n",
    "4. In order to make humans feel inadequate, Python randomly emits \"Indentation Errors\" on perfectly good code - after about an hour the error will just go away without any chnages to your program\n",
    "\n",
    "#### 6. What is the Python reserved word that we use in two-way if tests to indicate the block of code that is to be executed if the logical test is false?\n",
    "\n",
    "(Answer): 3\n",
    "\n",
    "1. toggle\n",
    "2. iterate\n",
    "3. else\n",
    "4. otherwise\n",
    "\n",
    "#### 7. What will the following code print out?"
   ]
  },
  {
   "cell_type": "code",
   "execution_count": 14,
   "metadata": {},
   "outputs": [
    {
     "name": "stdout",
     "output_type": "stream",
     "text": [
      "Small\n",
      "All done\n"
     ]
    }
   ],
   "source": [
    "x = 0\n",
    "\n",
    "if x < 2 :\n",
    "    print('Small')\n",
    "elif x < 10 :\n",
    "    print('Medium')\n",
    "else :\n",
    "    print('LARGE')\n",
    "    \n",
    "print('All done')"
   ]
  },
  {
   "cell_type": "markdown",
   "metadata": {},
   "source": [
    "(Answer): 2\n",
    "\n",
    "1. Small\n",
    "2. Small  \n",
    "   All done\n",
    "3. Medium  \n",
    "   All done  \n",
    "4. Small  \n",
    "   Medium  \n",
    "   LARGE  \n",
    "   All done\n",
    "   \n",
    "#### 8. For the following code,"
   ]
  },
  {
   "cell_type": "code",
   "execution_count": 15,
   "metadata": {},
   "outputs": [
    {
     "name": "stdout",
     "output_type": "stream",
     "text": [
      "Below 2\n"
     ]
    }
   ],
   "source": [
    "if x < 2:\n",
    "    print(\"Below 2\")\n",
    "elif x >= 2:\n",
    "    print(\"Two or more\")\n",
    "else:\n",
    "    print(\"Something else\")"
   ]
  },
  {
   "cell_type": "markdown",
   "metadata": {},
   "source": [
    "#### What value of '*x*' will cause \"Something else\" to print out?\n",
    "\n",
    "(Answer): 4\n",
    "\n",
    "1. x = -2.0\n",
    "2. x = 2.0\n",
    "3. x = -22\n",
    "4. This code will never print \"Something else\" regardless of the value for \"*x*\"\n",
    "\n",
    "#### 9. In the following code (numbers added) - which will be the last line to execute successfully?"
   ]
  },
  {
   "cell_type": "code",
   "execution_count": 16,
   "metadata": {},
   "outputs": [
    {
     "ename": "ValueError",
     "evalue": "invalid literal for int() with base 10: 'Hello Bob'",
     "output_type": "error",
     "traceback": [
      "\u001b[0;31m---------------------------------------------------------------------------\u001b[0m",
      "\u001b[0;31mValueError\u001b[0m                                Traceback (most recent call last)",
      "\u001b[0;32m<ipython-input-16-166f64383cef>\u001b[0m in \u001b[0;36m<module>\u001b[0;34m\u001b[0m\n\u001b[1;32m      1\u001b[0m \u001b[0mastr\u001b[0m \u001b[0;34m=\u001b[0m \u001b[0;34m\"Hello Bob\"\u001b[0m    \u001b[0;31m# 1\u001b[0m\u001b[0;34m\u001b[0m\u001b[0;34m\u001b[0m\u001b[0m\n\u001b[0;32m----> 2\u001b[0;31m \u001b[0mistr\u001b[0m \u001b[0;34m=\u001b[0m \u001b[0mint\u001b[0m\u001b[0;34m(\u001b[0m\u001b[0mastr\u001b[0m\u001b[0;34m)\u001b[0m      \u001b[0;31m# 2\u001b[0m\u001b[0;34m\u001b[0m\u001b[0;34m\u001b[0m\u001b[0m\n\u001b[0m\u001b[1;32m      3\u001b[0m \u001b[0mprint\u001b[0m\u001b[0;34m(\u001b[0m\u001b[0;34m\"First\"\u001b[0m\u001b[0;34m,\u001b[0m \u001b[0mistr\u001b[0m\u001b[0;34m)\u001b[0m  \u001b[0;31m# 3\u001b[0m\u001b[0;34m\u001b[0m\u001b[0;34m\u001b[0m\u001b[0m\n\u001b[1;32m      4\u001b[0m \u001b[0mastr\u001b[0m \u001b[0;34m=\u001b[0m \u001b[0;34m\"123\"\u001b[0m          \u001b[0;31m# 4\u001b[0m\u001b[0;34m\u001b[0m\u001b[0;34m\u001b[0m\u001b[0m\n\u001b[1;32m      5\u001b[0m \u001b[0mistr\u001b[0m \u001b[0;34m=\u001b[0m \u001b[0mint\u001b[0m\u001b[0;34m(\u001b[0m\u001b[0mastr\u001b[0m\u001b[0;34m)\u001b[0m      \u001b[0;31m# 5\u001b[0m\u001b[0;34m\u001b[0m\u001b[0;34m\u001b[0m\u001b[0m\n",
      "\u001b[0;31mValueError\u001b[0m: invalid literal for int() with base 10: 'Hello Bob'"
     ]
    }
   ],
   "source": [
    "astr = \"Hello Bob\"    # 1\n",
    "istr = int(astr)      # 2\n",
    "print(\"First\", istr)  # 3\n",
    "astr = \"123\"          # 4\n",
    "istr = int(astr)      # 5\n",
    "print(\"Second\", istr) # 6"
   ]
  },
  {
   "cell_type": "markdown",
   "metadata": {},
   "source": [
    "(Answer): 1\n",
    "\n",
    "1. 1\n",
    "2. 5\n",
    "3. 2\n",
    "4. 4\n",
    "\n",
    "#### 10. For the following code:"
   ]
  },
  {
   "cell_type": "code",
   "execution_count": 17,
   "metadata": {},
   "outputs": [
    {
     "name": "stdout",
     "output_type": "stream",
     "text": [
      "-1\n"
     ]
    }
   ],
   "source": [
    "astr = \"Hello Bob\"\n",
    "istr = 0\n",
    "\n",
    "try:\n",
    "    istr = int(astr)\n",
    "except:\n",
    "    istr = -1\n",
    "    \n",
    "print(istr)"
   ]
  },
  {
   "cell_type": "markdown",
   "metadata": {},
   "source": [
    "#### What will the value be for \"istr\" after this code executes?\n",
    "\n",
    "(Answer): 2\n",
    "\n",
    "1. 9 (the number of characters in \"Hello Bob\")\n",
    "2. -1\n",
    "3. false\n",
    "4. It depends on the position in the collating sequence for the letter \"H\""
   ]
  },
  {
   "cell_type": "markdown",
   "metadata": {},
   "source": [
    "# Assignment 3"
   ]
  },
  {
   "cell_type": "markdown",
   "metadata": {},
   "source": [
    "1. Write a program to prompt the user for hours and rate per hour using input to compute gross pay. Pay the hourly rate for the hours up to 40 and 1.5 times the hourly rate for all hours worked above 40 hours. Use 45 hours and a rate of 10.50 per hour to test the program (the pay should be 498.75). You should use **input** to read a string and **float()** to convert the string to a number. Do not worry about error checking the user input - assume the user types numbers properly."
   ]
  },
  {
   "cell_type": "code",
   "execution_count": 18,
   "metadata": {},
   "outputs": [
    {
     "name": "stdout",
     "output_type": "stream",
     "text": [
      "Enter Hours: 45\n",
      "Enter Rate per Hour: 10.50\n",
      "498.75\n"
     ]
    }
   ],
   "source": [
    "hrs = input(\"Enter Hours: \")\n",
    "h = float(hrs)\n",
    "\n",
    "rph = input(\"Enter Rate per Hour: \")\n",
    "r = float(rph)\n",
    "\n",
    "if h <= 40:\n",
    "    pay = h * r\n",
    "else:\n",
    "    pay = 40 * r + (h - 40) * r * 1.5\n",
    "    \n",
    "print(pay)"
   ]
  },
  {
   "cell_type": "markdown",
   "metadata": {},
   "source": [
    "2. Rewrite your pay program using **try** and **except** so that your program handles non-numeric input gracefully by printing a message and exiting the program. The following shows two executions of the program:\n",
    "\n",
    "Enter Hours: 20  \n",
    "Enter Rate: nine  \n",
    "Error, please enter numeric input\n",
    "\n",
    "Enter Hours: forty  \n",
    "Error, please enter numeric input"
   ]
  },
  {
   "cell_type": "code",
   "execution_count": 19,
   "metadata": {},
   "outputs": [
    {
     "name": "stdout",
     "output_type": "stream",
     "text": [
      "Enter Hours: 20\n",
      "Enter Rate: nine\n",
      "Error, please enter numeric input\n"
     ]
    },
    {
     "ename": "SystemExit",
     "evalue": "",
     "output_type": "error",
     "traceback": [
      "An exception has occurred, use %tb to see the full traceback.\n",
      "\u001b[0;31mSystemExit\u001b[0m\n"
     ]
    },
    {
     "name": "stderr",
     "output_type": "stream",
     "text": [
      "/opt/anaconda3/lib/python3.7/site-packages/IPython/core/interactiveshell.py:3334: UserWarning: To exit: use 'exit', 'quit', or Ctrl-D.\n",
      "  warn(\"To exit: use 'exit', 'quit', or Ctrl-D.\", stacklevel=1)\n"
     ]
    }
   ],
   "source": [
    "import sys\n",
    "\n",
    "# Enter the hours\n",
    "hrs = input(\"Enter Hours: \")\n",
    "\n",
    "try: \n",
    "    h1 = float(hrs)\n",
    "except:\n",
    "    print(\"Error, please enter numeric input\")\n",
    "    sys.exit()\n",
    "\n",
    "# Enter the rate\n",
    "rph = input(\"Enter Rate: \")\n",
    "\n",
    "try:     \n",
    "    r1 = float(rph)\n",
    "except:    \n",
    "    print(\"Error, please enter numeric input\")\n",
    "    sys.exit()\n",
    "    \n",
    "# calculate the gross pay    \n",
    "if h <= 40:\n",
    "    pay = h1 * r1\n",
    "else:\n",
    "    pay = 40 * r1 + (h1 - 40) * r1 * 1.5\n",
    "    \n",
    "print(\"Pay:\", pay)"
   ]
  },
  {
   "cell_type": "markdown",
   "metadata": {},
   "source": [
    "3. Write a program to prompt for a score between 0.0 and 1.0. If the score is out of range, print an error. If the score is between 0.0 and 1.0, print a grade using the following table:  \n",
    "\n",
    "Score Grade  \n",
    "\">= 0.9\" A  \n",
    "\">= 0.8\" B  \n",
    "\">= 0.7\" C  \n",
    "\">= 0.6\" D  \n",
    "\"< 0.6\"  F  \n",
    "\n",
    "If the user enters a value out of range, print a suitable error message and exit. For the test, enter a score of 0.85."
   ]
  },
  {
   "cell_type": "code",
   "execution_count": 20,
   "metadata": {},
   "outputs": [
    {
     "name": "stdout",
     "output_type": "stream",
     "text": [
      "Enter Score: 0.85\n",
      "B\n"
     ]
    }
   ],
   "source": [
    "score = input(\"Enter Score: \")\n",
    "s = float(score)\n",
    "\n",
    "if s < 0.0 or s > 1.0:\n",
    "    print(\"Please enter a score between 0.0 and 1.0\")\n",
    "elif s >= 0.9:\n",
    "    print(\"A\")\n",
    "elif s >= 0.8:\n",
    "    print(\"B\")\n",
    "elif s >= 0.7:\n",
    "    print(\"C\")\n",
    "elif s >- 0.6:\n",
    "    print(\"D\")\n",
    "else:\n",
    "    print(\"F\")"
   ]
  }
 ],
 "metadata": {
  "kernelspec": {
   "display_name": "Python 3",
   "language": "python",
   "name": "python3"
  },
  "language_info": {
   "codemirror_mode": {
    "name": "ipython",
    "version": 3
   },
   "file_extension": ".py",
   "mimetype": "text/x-python",
   "name": "python",
   "nbconvert_exporter": "python",
   "pygments_lexer": "ipython3",
   "version": "3.7.4"
  }
 },
 "nbformat": 4,
 "nbformat_minor": 2
}
