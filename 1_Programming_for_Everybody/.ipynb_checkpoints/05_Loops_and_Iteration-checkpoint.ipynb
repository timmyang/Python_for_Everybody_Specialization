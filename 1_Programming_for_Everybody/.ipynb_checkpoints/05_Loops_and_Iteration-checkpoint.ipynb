{
 "cells": [
  {
   "cell_type": "markdown",
   "metadata": {},
   "source": [
    "### Chapter 5 - Loops and Iteration  \n",
    "\n",
    "# Table of Contents\n",
    "\n",
    "5.1 Loops and Iteration \n",
    "\n",
    "- 1. Repeated Steps\n",
    "- 2. Breaking Out of a Loop\n",
    "- 3. Finishing an Iteration with Continue\n",
    "\n",
    "5.2 Definite Loops \n",
    "\n",
    "- 1. A Simple Definite Loop\n",
    "- 2. A Definite Loop with Strings\n",
    "\n",
    "5.3 Finding the Largest Value \n",
    "\n",
    "- 1. Making \"smart\" Loops\n",
    "\n",
    "5.4 Loop Idioms\n",
    "\n",
    "- 1. Counting in a Loop     \n",
    "- 2. Summing in a Loop     \n",
    "- 3. Finding the Average in a Loop  \n",
    "- 4. Filtering in a Loop     \n",
    "- 5. Search Using a Boolean Variable     \n",
    "- 6.How to Find the Smallest Value\n",
    "\n",
    "Quiz 5\n",
    "\n",
    "Assignment 5"
   ]
  },
  {
   "cell_type": "markdown",
   "metadata": {},
   "source": [
    "# 5.1 Loops and Iteration"
   ]
  },
  {
   "cell_type": "markdown",
   "metadata": {},
   "source": [
    "## 1. Repeated Steps\n",
    "\n",
    "### While Loop\n",
    "\n",
    "- Loops(Repeated Steps) have **iteration variables** that chnage each time through a loop."
   ]
  },
  {
   "cell_type": "code",
   "execution_count": 1,
   "metadata": {},
   "outputs": [
    {
     "name": "stdout",
     "output_type": "stream",
     "text": [
      "5\n",
      "4\n",
      "3\n",
      "2\n",
      "1\n",
      "Blastoff!\n",
      "0\n"
     ]
    }
   ],
   "source": [
    "n = 5\n",
    "\n",
    "while n > 0:\n",
    "    print(n)\n",
    "    n = n - 1\n",
    "    \n",
    "print(\"Blastoff!\")\n",
    "print(n)"
   ]
  },
  {
   "cell_type": "markdown",
   "metadata": {},
   "source": [
    "## 2. Breaking Out of a Loop\n",
    "\n",
    "### Break\n",
    "- The **break** statement ends the current loop and jumps to the statement immediately following the loop"
   ]
  },
  {
   "cell_type": "code",
   "execution_count": 2,
   "metadata": {},
   "outputs": [
    {
     "name": "stdout",
     "output_type": "stream",
     "text": [
      "> hello there\n",
      "hello there\n",
      "> hello there\n",
      "hello there\n",
      "> done\n",
      "Done!\n"
     ]
    }
   ],
   "source": [
    "while True:\n",
    "    line = input(\"> \")\n",
    "    \n",
    "    if line == \"done\":\n",
    "        break\n",
    "        \n",
    "    print(line)\n",
    "\n",
    "print(\"Done!\")"
   ]
  },
  {
   "cell_type": "markdown",
   "metadata": {},
   "source": [
    "## 3. Finishing an Iteration with Continue\n",
    "\n",
    "### Continue\n",
    "\n",
    "- The **continue** statement ends the current iteration and jumps to the top of the loop and starts the next iteration"
   ]
  },
  {
   "cell_type": "code",
   "execution_count": 3,
   "metadata": {},
   "outputs": [
    {
     "name": "stdout",
     "output_type": "stream",
     "text": [
      "> hello there\n",
      "hello there\n",
      "> # don't print this\n",
      "> print this\n",
      "print this\n",
      "> done\n",
      "Done!\n"
     ]
    }
   ],
   "source": [
    "while True:\n",
    "    line = input(\"> \")\n",
    "    \n",
    "    if line[0] == \"#\":\n",
    "        continue\n",
    "    \n",
    "    if line == \"done\":\n",
    "        break\n",
    "        \n",
    "    print(line)\n",
    "    \n",
    "print(\"Done!\")"
   ]
  },
  {
   "cell_type": "markdown",
   "metadata": {},
   "source": [
    "# 5.2 Definite Loops\n",
    "\n",
    "## 1. A Simple Definite Loop"
   ]
  },
  {
   "cell_type": "code",
   "execution_count": 4,
   "metadata": {},
   "outputs": [
    {
     "name": "stdout",
     "output_type": "stream",
     "text": [
      "5\n",
      "4\n",
      "3\n",
      "2\n",
      "1\n",
      "Blastoff!\n"
     ]
    }
   ],
   "source": [
    "for i in [5, 4, 3, 2, 1]:\n",
    "    print(i)\n",
    "    \n",
    "print(\"Blastoff!\")"
   ]
  },
  {
   "cell_type": "markdown",
   "metadata": {},
   "source": [
    "## 2. A Definite Loop with Strings"
   ]
  },
  {
   "cell_type": "code",
   "execution_count": 5,
   "metadata": {},
   "outputs": [
    {
     "name": "stdout",
     "output_type": "stream",
     "text": [
      "Happy New Year: Joseph\n",
      "Happy New Year: Glenn\n",
      "Happy New Year: Sally\n",
      "Done!\n"
     ]
    }
   ],
   "source": [
    "friends = [\"Joseph\", \"Glenn\", \"Sally\"]\n",
    "\n",
    "for friend in friends:                 # \"friend\" is an iteration variable\n",
    "    print(\"Happy New Year:\", friend)\n",
    "\n",
    "print(\"Done!\")"
   ]
  },
  {
   "cell_type": "markdown",
   "metadata": {},
   "source": [
    "# 5.3 Finding the Largest Value"
   ]
  },
  {
   "cell_type": "markdown",
   "metadata": {},
   "source": [
    "## 1. Making \"smart\" Loops\n",
    "\n",
    "- The trick is \"knowing\" something about the whole loop when you are stuck writing code that only sees one entry at a time"
   ]
  },
  {
   "cell_type": "code",
   "execution_count": 6,
   "metadata": {},
   "outputs": [
    {
     "name": "stdout",
     "output_type": "stream",
     "text": [
      "Before -1\n",
      "9 9\n",
      "41 41\n",
      "41 12\n",
      "41 3\n",
      "74 74\n",
      "74 15\n",
      "After 74\n"
     ]
    }
   ],
   "source": [
    "largest_so_far = -1\n",
    "\n",
    "print(\"Before\", largest_so_far)\n",
    "\n",
    "for the_num in [9, 41, 12, 3, 74, 15]:\n",
    "    \n",
    "    if the_num > largest_so_far:\n",
    "        largest_so_far = the_num\n",
    "    \n",
    "    print(largest_so_far, the_num)\n",
    "    \n",
    "print(\"After\", largest_so_far)"
   ]
  },
  {
   "cell_type": "markdown",
   "metadata": {},
   "source": [
    "# 5.4 Loop Idioms"
   ]
  },
  {
   "cell_type": "markdown",
   "metadata": {},
   "source": [
    "## 1. Counting in a  Loop"
   ]
  },
  {
   "cell_type": "code",
   "execution_count": 7,
   "metadata": {},
   "outputs": [
    {
     "name": "stdout",
     "output_type": "stream",
     "text": [
      "Before 0\n",
      "1 9\n",
      "2 41\n",
      "3 12\n",
      "4 3\n",
      "5 74\n",
      "6 15\n",
      "After 6\n"
     ]
    }
   ],
   "source": [
    "zork = 0\n",
    "print(\"Before\", zork)\n",
    "\n",
    "for thing in [9, 41, 12, 3, 74, 15]:\n",
    "    zork = zork + 1\n",
    "    print(zork, thing)\n",
    "\n",
    "print(\"After\", zork)"
   ]
  },
  {
   "cell_type": "markdown",
   "metadata": {},
   "source": [
    "## 2. Summing in a Loop"
   ]
  },
  {
   "cell_type": "code",
   "execution_count": 8,
   "metadata": {},
   "outputs": [
    {
     "name": "stdout",
     "output_type": "stream",
     "text": [
      "Before 0\n",
      "9 9\n",
      "50 41\n",
      "62 12\n",
      "65 3\n",
      "139 74\n",
      "154 15\n",
      "After 154\n"
     ]
    }
   ],
   "source": [
    "zork = 0\n",
    "print(\"Before\", zork)\n",
    "\n",
    "for thing in [9, 41, 12, 3, 74, 15]:\n",
    "    zork = zork + thing\n",
    "    print(zork, thing)\n",
    "\n",
    "print(\"After\", zork)"
   ]
  },
  {
   "cell_type": "markdown",
   "metadata": {},
   "source": [
    "## 3. Finding the Average in a Loop"
   ]
  },
  {
   "cell_type": "code",
   "execution_count": 9,
   "metadata": {},
   "outputs": [
    {
     "name": "stdout",
     "output_type": "stream",
     "text": [
      "Before 0 0\n",
      "1 9 9\n",
      "2 50 41\n",
      "3 62 12\n",
      "4 65 3\n",
      "5 139 74\n",
      "6 154 15\n",
      "After 6 154 25.666666666666668\n"
     ]
    }
   ],
   "source": [
    "count = 0\n",
    "sum = 0\n",
    "print(\"Before\", count, sum)\n",
    "\n",
    "for value in [9, 41, 12, 3, 74, 15]:\n",
    "    count = count + 1\n",
    "    sum = sum + value\n",
    "    print(count, sum, value)\n",
    "\n",
    "print(\"After\", count, sum, sum / count)"
   ]
  },
  {
   "cell_type": "markdown",
   "metadata": {},
   "source": [
    "## 4. Filtering in a Loop"
   ]
  },
  {
   "cell_type": "code",
   "execution_count": 10,
   "metadata": {},
   "outputs": [
    {
     "name": "stdout",
     "output_type": "stream",
     "text": [
      "Before\n",
      "Large Number 41\n",
      "Large Number 74\n",
      "After\n"
     ]
    }
   ],
   "source": [
    "print(\"Before\")\n",
    "\n",
    "for value in [9, 41, 12, 3, 74, 15]:\n",
    "    \n",
    "    if value > 20:\n",
    "        print(\"Large Number\", value)\n",
    "\n",
    "print(\"After\")"
   ]
  },
  {
   "cell_type": "markdown",
   "metadata": {},
   "source": [
    "## 5. Search Using a Boolean Variable"
   ]
  },
  {
   "cell_type": "code",
   "execution_count": 11,
   "metadata": {},
   "outputs": [
    {
     "name": "stdout",
     "output_type": "stream",
     "text": [
      "Before False\n",
      "False 9\n",
      "False 41\n",
      "False 12\n",
      "After True\n"
     ]
    }
   ],
   "source": [
    "found = False\n",
    "print(\"Before\", found)\n",
    "\n",
    "for value in [9, 41, 12, 3, 74, 15]:\n",
    "    \n",
    "    if value == 3:\n",
    "        found = True\n",
    "        break\n",
    "    \n",
    "    print(found, value)\n",
    "    \n",
    "print(\"After\", found)"
   ]
  },
  {
   "cell_type": "markdown",
   "metadata": {},
   "source": [
    "## 6. How to Find the Smallest Value"
   ]
  },
  {
   "cell_type": "code",
   "execution_count": 12,
   "metadata": {},
   "outputs": [
    {
     "name": "stdout",
     "output_type": "stream",
     "text": [
      "Before None\n",
      "9 9\n",
      "9 41\n",
      "9 12\n",
      "3 3\n",
      "3 74\n",
      "3 15\n",
      "After 3\n"
     ]
    }
   ],
   "source": [
    "smallest_so_far = None\n",
    "print(\"Before\", smallest_so_far)\n",
    "\n",
    "for the_num in [9, 41, 12, 3, 74, 15]:\n",
    "    \n",
    "    if smallest_so_far is None:        # \"is\" is more powerful than the \"==\" sign. Means exactly the same as.\n",
    "        smallest_so_far = the_num\n",
    "        \n",
    "    elif the_num < smallest_so_far:\n",
    "        smallest_so_far = the_num\n",
    "    \n",
    "    print(smallest_so_far, the_num)\n",
    "    \n",
    "print(\"After\", smallest_so_far)"
   ]
  },
  {
   "cell_type": "markdown",
   "metadata": {},
   "source": [
    "# Quiz 5."
   ]
  },
  {
   "cell_type": "markdown",
   "metadata": {},
   "source": [
    "#### 1. What is wrong with this Python loop:"
   ]
  },
  {
   "cell_type": "code",
   "execution_count": null,
   "metadata": {},
   "outputs": [],
   "source": [
    "n = 5\n",
    "\n",
    "while n > 0 :\n",
    "    print(n)\n",
    "    \n",
    "print('All done')"
   ]
  },
  {
   "cell_type": "markdown",
   "metadata": {},
   "source": [
    "(Answer): 1\n",
    "\n",
    "1. This loop will run forever\n",
    "2. The **print('All done')** statement should be indented four spaces\n",
    "3. There should be no colon on the **while** statement\n",
    "4. **while** is not a Python reserved word"
   ]
  },
  {
   "cell_type": "markdown",
   "metadata": {},
   "source": [
    "#### 2. What does the break statement do?\n",
    "\n",
    "(Answer): 3\n",
    "\n",
    "1. Jumps to the \"top\" of the loop and starts the next iteration\n",
    "2. Exits the program\n",
    "3. Exits the currently executing loop\n",
    "4. Resets the iteration variable to its initial value"
   ]
  },
  {
   "cell_type": "markdown",
   "metadata": {},
   "source": [
    "#### 3. What does the continue statement do?\n",
    "\n",
    "(Answer): 2\n",
    "\n",
    "1. Resets the iteration variable to its initial value\n",
    "2. Jumps to the \"top\" of the loop and starts the next iteration\n",
    "3. Exits the currently executing loop\n",
    "4. Exits the program"
   ]
  },
  {
   "cell_type": "markdown",
   "metadata": {},
   "source": [
    "#### 4. What does the following Python program print out?"
   ]
  },
  {
   "cell_type": "code",
   "execution_count": 13,
   "metadata": {},
   "outputs": [
    {
     "name": "stdout",
     "output_type": "stream",
     "text": [
      "5\n"
     ]
    }
   ],
   "source": [
    "tot = 0 \n",
    "\n",
    "for i in [5, 4, 3, 2, 1] :\n",
    "    tot = tot + 1\n",
    "    \n",
    "print(tot)"
   ]
  },
  {
   "cell_type": "markdown",
   "metadata": {},
   "source": [
    "(Answer): 2\n",
    "\n",
    "1. 10\n",
    "2. 5\n",
    "3. 15\n",
    "4. 0"
   ]
  },
  {
   "cell_type": "markdown",
   "metadata": {},
   "source": [
    "#### 5. What is the *iteration* variable in the following Python code:"
   ]
  },
  {
   "cell_type": "code",
   "execution_count": 14,
   "metadata": {},
   "outputs": [
    {
     "name": "stdout",
     "output_type": "stream",
     "text": [
      "Happy New Year: Joseph\n",
      "Happy New Year: Glenn\n",
      "Happy New Year: Sally\n",
      "Done!\n"
     ]
    }
   ],
   "source": [
    "friends = ['Joseph', 'Glenn', 'Sally']\n",
    "\n",
    "for friend in friends :\n",
    "     print('Happy New Year:',  friend)\n",
    "        \n",
    "print('Done!')"
   ]
  },
  {
   "cell_type": "markdown",
   "metadata": {},
   "source": [
    "(Answer): 1\n",
    "\n",
    "1. friend\n",
    "2. Sally\n",
    "3. Glenn\n",
    "4. Joseph"
   ]
  },
  {
   "cell_type": "markdown",
   "metadata": {},
   "source": [
    "#### 6. What is a good description of the following bit of Python code?"
   ]
  },
  {
   "cell_type": "code",
   "execution_count": 15,
   "metadata": {},
   "outputs": [
    {
     "name": "stdout",
     "output_type": "stream",
     "text": [
      "After 154\n"
     ]
    }
   ],
   "source": [
    "zork = 0\n",
    "\n",
    "for thing in [9, 41, 12, 3, 74, 15] :\n",
    "    zork = zork + thing\n",
    "    \n",
    "print('After', zork)"
   ]
  },
  {
   "cell_type": "markdown",
   "metadata": {},
   "source": [
    "(Answer): 4\n",
    "\n",
    "1. Find the smallest item in a list\n",
    "2. Find the largest item in a list\n",
    "3. Count all of the elements in a list\n",
    "4. Sum all the elements of a list"
   ]
  },
  {
   "cell_type": "markdown",
   "metadata": {},
   "source": [
    "#### 7. What will the following code print out?"
   ]
  },
  {
   "cell_type": "code",
   "execution_count": 16,
   "metadata": {},
   "outputs": [
    {
     "name": "stdout",
     "output_type": "stream",
     "text": [
      "-1\n"
     ]
    }
   ],
   "source": [
    "smallest_so_far = -1\n",
    "\n",
    "for the_num in [9, 41, 12, 3, 74, 15] :\n",
    "    \n",
    "    if the_num < smallest_so_far :\n",
    "        smallest_so_far = the_num\n",
    "    \n",
    "print(smallest_so_far)"
   ]
  },
  {
   "cell_type": "markdown",
   "metadata": {},
   "source": [
    "#### Hint: This is a trick question and most would say this code has a bug - so read carefully\n",
    "\n",
    "(Answer): 1\n",
    "\n",
    "1. -1\n",
    "2. 74\n",
    "3. 42\n",
    "4. 3"
   ]
  },
  {
   "cell_type": "markdown",
   "metadata": {},
   "source": [
    "#### 8. What is a good statement to describe the *is* operator as used in the following if statement:"
   ]
  },
  {
   "cell_type": "code",
   "execution_count": null,
   "metadata": {},
   "outputs": [],
   "source": [
    "if smallest is None :\n",
    "     smallest = value"
   ]
  },
  {
   "cell_type": "markdown",
   "metadata": {},
   "source": [
    "(Answer): 4\n",
    "\n",
    "1. The if statement is a syntax error\n",
    "2. Is true if the **smallest** variable has a value of -1\n",
    "3. Looks up 'None' in the **smallest** variable if it is a string\n",
    "4. matches both type and value"
   ]
  },
  {
   "cell_type": "markdown",
   "metadata": {},
   "source": [
    "#### 9. Which reserved word indicates the start of an \"indefinite\" loop in Python?\n",
    "\n",
    "(Answer): 3\n",
    "\n",
    "1. indef\n",
    "2. for\n",
    "3. while\n",
    "4. break\n",
    "5. def"
   ]
  },
  {
   "cell_type": "markdown",
   "metadata": {},
   "source": [
    "#### 10. How many times will the body of the following loop be executed?"
   ]
  },
  {
   "cell_type": "code",
   "execution_count": 17,
   "metadata": {},
   "outputs": [
    {
     "name": "stdout",
     "output_type": "stream",
     "text": [
      "Dry off!\n"
     ]
    }
   ],
   "source": [
    "n = 0\n",
    "\n",
    "while n > 0 :\n",
    "    print('Lather')\n",
    "    print('Rinse')\n",
    "    \n",
    "print('Dry off!')"
   ]
  },
  {
   "cell_type": "markdown",
   "metadata": {},
   "source": [
    "(Answer): 4\n",
    "\n",
    "1. 5\n",
    "2. This is an infinite loop\n",
    "3. 1\n",
    "4. 0"
   ]
  },
  {
   "cell_type": "markdown",
   "metadata": {},
   "source": [
    "# Assignment 5"
   ]
  },
  {
   "cell_type": "markdown",
   "metadata": {},
   "source": [
    "1. Write a program which repeatedly reads numbers until the user enters \"done\". Once \"done\" is entered, print out the total, **count** and average of the numbers. If the user enters anything other than a number, detect their mistake using **try** and **except** and print an error message and skip to the next number.\n",
    "\n",
    "Sample Output:\n",
    "\n",
    "Enter a number: 4  \n",
    "Enter a number: 5  \n",
    "Enter a number: bad data  \n",
    "Invalid input  \n",
    "Enter a number: 7  \n",
    "Enter a number: done  \n",
    "16 3 5.333333333333333"
   ]
  },
  {
   "cell_type": "code",
   "execution_count": 18,
   "metadata": {},
   "outputs": [
    {
     "name": "stdout",
     "output_type": "stream",
     "text": [
      "Enter a number: 4\n",
      "Enter a number: 5\n",
      "Enter a number: bad data\n",
      "Invalid input\n",
      "Enter a number: 7\n",
      "Enter a number: done\n",
      "16.0 3 5.333333333333333\n"
     ]
    }
   ],
   "source": [
    "num = 0\n",
    "tot = 0.0\n",
    "\n",
    "while True:\n",
    "    sval = input(\"Enter a number: \")\n",
    "    \n",
    "    if sval == \"done\":\n",
    "        break\n",
    "    \n",
    "    try:\n",
    "        fval = float(sval)\n",
    "    except:\n",
    "        print(\"Invalid input\")\n",
    "        continue\n",
    "    \n",
    "    # print(fval)\n",
    "    \n",
    "    num = num + 1\n",
    "    tot = tot + fval\n",
    "    \n",
    "# print(\"ALL DONE\")\n",
    "print(tot, num, tot/num)"
   ]
  },
  {
   "cell_type": "markdown",
   "metadata": {},
   "source": [
    "2. Write a program that repeatedly prompts a user for integer numbers until the user enters 'done'. Once 'done' is entered, print out the largest and smallest of the numbers. If the user enters anything other than a valid number catch it with a try/except and put out an appropriate message and ignore the number. Enter 7, 2, bob, 10, and 4 and match the output below."
   ]
  },
  {
   "cell_type": "code",
   "execution_count": 19,
   "metadata": {},
   "outputs": [
    {
     "name": "stdout",
     "output_type": "stream",
     "text": [
      "Enter a number: 7\n",
      "Enter a number: 2\n",
      "Enter a number: bob\n",
      "Invalid input\n",
      "Enter a number: 10\n",
      "Enter a number: 4\n",
      "Enter a number: done\n",
      "Maximum is 10\n",
      "Minimum is 2\n"
     ]
    }
   ],
   "source": [
    "largest = None\n",
    "smallest = None\n",
    "\n",
    "while True:\n",
    "    num = input(\"Enter a number: \")\n",
    "    \n",
    "    if num == \"done\" : \n",
    "        break\n",
    "        \n",
    "    try:\n",
    "        n = int(num)\n",
    "    except:\n",
    "        print(\"Invalid input\")\n",
    "        continue\n",
    "    \n",
    "    if largest is None:\n",
    "        largest = n\n",
    "    elif n > largest:\n",
    "        largest = n\n",
    "        \n",
    "    if smallest is None:\n",
    "        smallest = n\n",
    "    elif n < smallest:\n",
    "        smallest = n\n",
    "\n",
    "print(\"Maximum is\", largest)\n",
    "print(\"Minimum is\", smallest)"
   ]
  }
 ],
 "metadata": {
  "kernelspec": {
   "display_name": "Python 3",
   "language": "python",
   "name": "python3"
  },
  "language_info": {
   "codemirror_mode": {
    "name": "ipython",
    "version": 3
   },
   "file_extension": ".py",
   "mimetype": "text/x-python",
   "name": "python",
   "nbconvert_exporter": "python",
   "pygments_lexer": "ipython3",
   "version": "3.7.4"
  }
 },
 "nbformat": 4,
 "nbformat_minor": 2
}
