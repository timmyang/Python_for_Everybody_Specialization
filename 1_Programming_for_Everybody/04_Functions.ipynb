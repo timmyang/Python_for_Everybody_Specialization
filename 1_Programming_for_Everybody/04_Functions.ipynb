{
 "cells": [
  {
   "cell_type": "markdown",
   "metadata": {},
   "source": [
    "### Chapter 4 - Functions\n",
    "\n",
    "# Table of Contents\n",
    "\n",
    "4.1 Using Functions\n",
    "\n",
    "- 1. Stored (and resued) Steps\n",
    "- 2. Type Conversions\n",
    "\n",
    "4.2 Building Functions\n",
    "\n",
    "- 1. Building Our Own Functions\n",
    "- 2. Parameters\n",
    "- 3. Return Values\n",
    "- 4. Multiple Parameters/Arguments\n",
    "\n",
    "Quiz 4\n",
    "\n",
    "Assignment 4"
   ]
  },
  {
   "cell_type": "markdown",
   "metadata": {},
   "source": [
    "# 4.1 Using Functions"
   ]
  },
  {
   "cell_type": "markdown",
   "metadata": {},
   "source": [
    "## 1. Stored (and reused) Steps"
   ]
  },
  {
   "cell_type": "code",
   "execution_count": 1,
   "metadata": {},
   "outputs": [
    {
     "name": "stdout",
     "output_type": "stream",
     "text": [
      "Hello\n",
      "Fun\n",
      "Zip\n",
      "Hello\n",
      "Fun\n"
     ]
    }
   ],
   "source": [
    "def thing():\n",
    "    print(\"Hello\")\n",
    "    print(\"Fun\")\n",
    "    \n",
    "thing()\n",
    "print(\"Zip\")\n",
    "thing()"
   ]
  },
  {
   "cell_type": "code",
   "execution_count": 2,
   "metadata": {},
   "outputs": [
    {
     "name": "stdout",
     "output_type": "stream",
     "text": [
      "w\n"
     ]
    }
   ],
   "source": [
    "big = max(\"Hello world\")\n",
    "print(big)"
   ]
  },
  {
   "cell_type": "code",
   "execution_count": 3,
   "metadata": {},
   "outputs": [
    {
     "name": "stdout",
     "output_type": "stream",
     "text": [
      " \n"
     ]
    }
   ],
   "source": [
    "tiny = min(\"Hello world\")\n",
    "print(tiny)"
   ]
  },
  {
   "cell_type": "markdown",
   "metadata": {},
   "source": [
    "## 2. Type Conversions\n",
    "\n",
    "- Whn you put an integer and floating point in an expressionm the integer is **implicitly** converted to a float\n",
    "- You can control this with the built-in functions **int()** and **float()**"
   ]
  },
  {
   "cell_type": "code",
   "execution_count": 4,
   "metadata": {},
   "outputs": [
    {
     "name": "stdout",
     "output_type": "stream",
     "text": [
      "0.99\n"
     ]
    }
   ],
   "source": [
    "print(float(99) / 100)"
   ]
  },
  {
   "cell_type": "code",
   "execution_count": 5,
   "metadata": {},
   "outputs": [
    {
     "name": "stdout",
     "output_type": "stream",
     "text": [
      "0.99\n"
     ]
    }
   ],
   "source": [
    "print(99/100)"
   ]
  },
  {
   "cell_type": "code",
   "execution_count": 6,
   "metadata": {},
   "outputs": [
    {
     "data": {
      "text/plain": [
       "int"
      ]
     },
     "execution_count": 6,
     "metadata": {},
     "output_type": "execute_result"
    }
   ],
   "source": [
    "i = 42\n",
    "type(i)"
   ]
  },
  {
   "cell_type": "code",
   "execution_count": 7,
   "metadata": {},
   "outputs": [
    {
     "name": "stdout",
     "output_type": "stream",
     "text": [
      "42.0\n"
     ]
    },
    {
     "data": {
      "text/plain": [
       "float"
      ]
     },
     "execution_count": 7,
     "metadata": {},
     "output_type": "execute_result"
    }
   ],
   "source": [
    "f = float(i)\n",
    "print(f)\n",
    "type(f)"
   ]
  },
  {
   "cell_type": "code",
   "execution_count": 8,
   "metadata": {},
   "outputs": [
    {
     "name": "stdout",
     "output_type": "stream",
     "text": [
      "-2.5\n"
     ]
    }
   ],
   "source": [
    "print(1 + 2 * 3 / 4 - 5)"
   ]
  },
  {
   "cell_type": "markdown",
   "metadata": {},
   "source": [
    "### String Conversions\n",
    "\n",
    "- You can also use **int()** and **float()** to convert between strings and integers\n",
    "- You will get an **error** if the string does not contain numeric characters"
   ]
  },
  {
   "cell_type": "code",
   "execution_count": 9,
   "metadata": {},
   "outputs": [
    {
     "data": {
      "text/plain": [
       "str"
      ]
     },
     "execution_count": 9,
     "metadata": {},
     "output_type": "execute_result"
    }
   ],
   "source": [
    "sval = \"123\"\n",
    "type(sval)"
   ]
  },
  {
   "cell_type": "code",
   "execution_count": 10,
   "metadata": {},
   "outputs": [
    {
     "ename": "TypeError",
     "evalue": "can only concatenate str (not \"int\") to str",
     "output_type": "error",
     "traceback": [
      "\u001b[0;31m---------------------------------------------------------------------------\u001b[0m",
      "\u001b[0;31mTypeError\u001b[0m                                 Traceback (most recent call last)",
      "\u001b[0;32m<ipython-input-10-844c8fe77d11>\u001b[0m in \u001b[0;36m<module>\u001b[0;34m\u001b[0m\n\u001b[0;32m----> 1\u001b[0;31m \u001b[0mprint\u001b[0m\u001b[0;34m(\u001b[0m\u001b[0msval\u001b[0m \u001b[0;34m+\u001b[0m \u001b[0;36m1\u001b[0m\u001b[0;34m)\u001b[0m\u001b[0;34m\u001b[0m\u001b[0;34m\u001b[0m\u001b[0m\n\u001b[0m",
      "\u001b[0;31mTypeError\u001b[0m: can only concatenate str (not \"int\") to str"
     ]
    }
   ],
   "source": [
    "print(sval + 1)"
   ]
  },
  {
   "cell_type": "code",
   "execution_count": 11,
   "metadata": {},
   "outputs": [
    {
     "data": {
      "text/plain": [
       "int"
      ]
     },
     "execution_count": 11,
     "metadata": {},
     "output_type": "execute_result"
    }
   ],
   "source": [
    "ival = int(sval)\n",
    "type(ival)"
   ]
  },
  {
   "cell_type": "code",
   "execution_count": 12,
   "metadata": {},
   "outputs": [
    {
     "name": "stdout",
     "output_type": "stream",
     "text": [
      "124\n"
     ]
    }
   ],
   "source": [
    "print(ival + 1)"
   ]
  },
  {
   "cell_type": "code",
   "execution_count": 13,
   "metadata": {},
   "outputs": [
    {
     "ename": "ValueError",
     "evalue": "invalid literal for int() with base 10: 'hello bob'",
     "output_type": "error",
     "traceback": [
      "\u001b[0;31m---------------------------------------------------------------------------\u001b[0m",
      "\u001b[0;31mValueError\u001b[0m                                Traceback (most recent call last)",
      "\u001b[0;32m<ipython-input-13-2ddd65ddf276>\u001b[0m in \u001b[0;36m<module>\u001b[0;34m\u001b[0m\n\u001b[1;32m      1\u001b[0m \u001b[0mnsv\u001b[0m \u001b[0;34m=\u001b[0m \u001b[0;34m\"hello bob\"\u001b[0m\u001b[0;34m\u001b[0m\u001b[0;34m\u001b[0m\u001b[0m\n\u001b[0;32m----> 2\u001b[0;31m \u001b[0mniv\u001b[0m \u001b[0;34m=\u001b[0m \u001b[0mint\u001b[0m\u001b[0;34m(\u001b[0m\u001b[0mnsv\u001b[0m\u001b[0;34m)\u001b[0m\u001b[0;34m\u001b[0m\u001b[0;34m\u001b[0m\u001b[0m\n\u001b[0m",
      "\u001b[0;31mValueError\u001b[0m: invalid literal for int() with base 10: 'hello bob'"
     ]
    }
   ],
   "source": [
    "nsv = \"hello bob\"\n",
    "niv = int(nsv)"
   ]
  },
  {
   "cell_type": "markdown",
   "metadata": {},
   "source": [
    "# 4.2 Building Functions"
   ]
  },
  {
   "cell_type": "markdown",
   "metadata": {},
   "source": [
    "## 1. Building Our Own Functions"
   ]
  },
  {
   "cell_type": "code",
   "execution_count": 14,
   "metadata": {},
   "outputs": [
    {
     "name": "stdout",
     "output_type": "stream",
     "text": [
      "Hello\n",
      "Yo\n",
      "7\n"
     ]
    }
   ],
   "source": [
    "x = 5\n",
    "print(\"Hello\")\n",
    "\n",
    "def print_lyrics(): # this function does not execute, unless invoked\n",
    "    print(\"I'm a lumberjack, and I'm okay.\")\n",
    "    print(\"I sleep all night and I work all day.\")\n",
    "\n",
    "print(\"Yo\")\n",
    "\n",
    "x = x + 2\n",
    "print(x)"
   ]
  },
  {
   "cell_type": "code",
   "execution_count": 15,
   "metadata": {},
   "outputs": [
    {
     "name": "stdout",
     "output_type": "stream",
     "text": [
      "I'm a lumberjack, and I'm okay.\n",
      "I sleep all night and I work all day.\n"
     ]
    }
   ],
   "source": [
    "print_lyrics()"
   ]
  },
  {
   "cell_type": "markdown",
   "metadata": {},
   "source": [
    "## 2. Parameters\n",
    "\n",
    "- A **parameter** is a variable which we use **in** the function **definition**.\n",
    "- It is a \"handle\" that allows the code in the function to access the **arguments** for a particular function invocation."
   ]
  },
  {
   "cell_type": "code",
   "execution_count": 16,
   "metadata": {},
   "outputs": [
    {
     "name": "stdout",
     "output_type": "stream",
     "text": [
      "Hello\n",
      "Hola\n",
      "Bonjour\n"
     ]
    }
   ],
   "source": [
    "def greet(lang):    # lang is a parameter\n",
    "    \n",
    "    if lang == \"es\":\n",
    "        print(\"Hola\")\n",
    "        \n",
    "    elif lang == \"fr\":\n",
    "        print(\"Bonjour\")\n",
    "        \n",
    "    else:\n",
    "        print(\"Hello\")\n",
    "        \n",
    "greet(\"en\")        # \"en\" is an argumnent\n",
    "greet(\"es\")\n",
    "greet(\"fr\")"
   ]
  },
  {
   "cell_type": "markdown",
   "metadata": {},
   "source": [
    "## 3. Return Values\n",
    "\n",
    "- Often a function will take its arguments, do some computation, and **return** a value to be used as the value of the function call in the **calling expression**.\n",
    "- The **return** keyword is used for this."
   ]
  },
  {
   "cell_type": "code",
   "execution_count": 17,
   "metadata": {},
   "outputs": [
    {
     "name": "stdout",
     "output_type": "stream",
     "text": [
      "Hello Glenn\n",
      "Hello Sally\n"
     ]
    }
   ],
   "source": [
    "def greet2():\n",
    "    return \"Hello\"\n",
    "\n",
    "print(greet2(), \"Glenn\")\n",
    "print(greet2(), \"Sally\")"
   ]
  },
  {
   "cell_type": "code",
   "execution_count": 18,
   "metadata": {},
   "outputs": [],
   "source": [
    "def greet3(lang):\n",
    "    \n",
    "    if lang == \"es\":\n",
    "        return(\"Hola\")\n",
    "        \n",
    "    elif lang == \"fr\":\n",
    "        return(\"Bonjour\")\n",
    "        \n",
    "    else:\n",
    "        return(\"Hello\")"
   ]
  },
  {
   "cell_type": "code",
   "execution_count": 19,
   "metadata": {},
   "outputs": [
    {
     "name": "stdout",
     "output_type": "stream",
     "text": [
      "Hello\n"
     ]
    }
   ],
   "source": [
    "greet(\"en\")"
   ]
  },
  {
   "cell_type": "code",
   "execution_count": 20,
   "metadata": {},
   "outputs": [
    {
     "name": "stdout",
     "output_type": "stream",
     "text": [
      "Hello\n",
      "None Glenn\n"
     ]
    }
   ],
   "source": [
    "print(greet(\"en\"), \"Glenn\")"
   ]
  },
  {
   "cell_type": "code",
   "execution_count": 21,
   "metadata": {},
   "outputs": [
    {
     "data": {
      "text/plain": [
       "'Hello'"
      ]
     },
     "execution_count": 21,
     "metadata": {},
     "output_type": "execute_result"
    }
   ],
   "source": [
    "greet3(\"en\")"
   ]
  },
  {
   "cell_type": "code",
   "execution_count": 22,
   "metadata": {},
   "outputs": [
    {
     "name": "stdout",
     "output_type": "stream",
     "text": [
      "Hello Glenn\n"
     ]
    }
   ],
   "source": [
    "print(greet3(\"en\"), \"Glenn\")"
   ]
  },
  {
   "cell_type": "markdown",
   "metadata": {},
   "source": [
    "- **Fruitful function:** A function that returns a value\n",
    "- **Non-Fruitful function:** A function that does not return a value"
   ]
  },
  {
   "cell_type": "markdown",
   "metadata": {},
   "source": [
    "## 4. Multiple Parameters/Arguments"
   ]
  },
  {
   "cell_type": "code",
   "execution_count": 23,
   "metadata": {},
   "outputs": [
    {
     "name": "stdout",
     "output_type": "stream",
     "text": [
      "8\n"
     ]
    }
   ],
   "source": [
    "def addtwo(a, b):\n",
    "    added = a + b\n",
    "    return added\n",
    "\n",
    "x = addtwo(3, 5)\n",
    "print(x)"
   ]
  },
  {
   "cell_type": "markdown",
   "metadata": {},
   "source": [
    "# Quiz 4"
   ]
  },
  {
   "cell_type": "markdown",
   "metadata": {},
   "source": [
    "#### 1. Which Python keyword indicates the start of a function definition?\n",
    "\n",
    "(Answer): 2\n",
    "\n",
    "1. continue\n",
    "\n",
    "2. def\n",
    "\n",
    "3. sweet\n",
    "\n",
    "4. return"
   ]
  },
  {
   "cell_type": "markdown",
   "metadata": {},
   "source": [
    "#### 2. In Python, how do you indicate the end of the block of code that makes up the function?\n",
    "\n",
    "(Answer): 2\n",
    "\n",
    "1. You put the colon character (:) in the first column of a line\n",
    "2. You de-indent a line of code to the same indent level as the def keyword\n",
    "3. You add a line that has at least 10 dashes\n",
    "4. You add the matching curly brace that was used to start the function }\n",
    "\n",
    "#### 3. In Python what is the input() feature best described as?\n",
    "\n",
    "(Answer): 2\n",
    "\n",
    "1. A reserved word\n",
    "2. A built-in function\n",
    "3. A user-defined function\n",
    "4. The central processing unit\n",
    "\n",
    "#### 4. What does the following code print out?"
   ]
  },
  {
   "cell_type": "code",
   "execution_count": 24,
   "metadata": {},
   "outputs": [
    {
     "name": "stdout",
     "output_type": "stream",
     "text": [
      "There\n"
     ]
    }
   ],
   "source": [
    "def thing():\n",
    "    print(\"Hello\")\n",
    "    \n",
    "print(\"There\")"
   ]
  },
  {
   "cell_type": "markdown",
   "metadata": {},
   "source": [
    "(Answer): 2\n",
    "\n",
    "1. def  \n",
    "   thing\n",
    "2. There\n",
    "3. thing  \n",
    "   Hello  \n",
    "   There\n",
    "4. Hello"
   ]
  },
  {
   "cell_type": "markdown",
   "metadata": {},
   "source": [
    "#### 5. In the following Python code, which of the following is an \"argument\" to a function?"
   ]
  },
  {
   "cell_type": "code",
   "execution_count": 25,
   "metadata": {},
   "outputs": [
    {
     "name": "stdout",
     "output_type": "stream",
     "text": [
      "n\n"
     ]
    }
   ],
   "source": [
    "x = 'banana'\n",
    "y = max(x)\n",
    "print(y)"
   ]
  },
  {
   "cell_type": "markdown",
   "metadata": {},
   "source": [
    "(Answer): 1\n",
    "\n",
    "1. x\n",
    "2. max\n",
    "3. 'banana'\n",
    "4. print"
   ]
  },
  {
   "cell_type": "markdown",
   "metadata": {},
   "source": [
    "#### 6. What will the following Python code print out?"
   ]
  },
  {
   "cell_type": "code",
   "execution_count": 26,
   "metadata": {},
   "outputs": [
    {
     "name": "stdout",
     "output_type": "stream",
     "text": [
      "10\n",
      "20\n"
     ]
    }
   ],
   "source": [
    "def func(x) :\n",
    "    print(x)\n",
    "\n",
    "func(10)\n",
    "func(20)"
   ]
  },
  {
   "cell_type": "markdown",
   "metadata": {},
   "source": [
    "(Answer): 2\n",
    "\n",
    "1. x  \n",
    "   20\n",
    "\n",
    "2. 10  \n",
    "   20\n",
    "\n",
    "3. def  \n",
    "   x  \n",
    "   func  \n",
    "   func\n",
    "\n",
    "4. x  \n",
    "   10  \n",
    "   x  \n",
    "   20"
   ]
  },
  {
   "cell_type": "markdown",
   "metadata": {},
   "source": [
    "#### 7. Which line of the following Python program will never execute?"
   ]
  },
  {
   "cell_type": "code",
   "execution_count": 27,
   "metadata": {},
   "outputs": [
    {
     "name": "stdout",
     "output_type": "stream",
     "text": [
      "Hello\n"
     ]
    }
   ],
   "source": [
    "def stuff():\n",
    "    print('Hello')\n",
    "    return\n",
    "    print('World')\n",
    "\n",
    "stuff()"
   ]
  },
  {
   "cell_type": "markdown",
   "metadata": {},
   "source": [
    "(Answer): 5\n",
    "\n",
    "1. print('Hello')\n",
    "2. return\n",
    "3. def stuff():\n",
    "4. stuff()\n",
    "5. print('World')\n",
    "\n",
    "#### 8. What will the following Python program print out?"
   ]
  },
  {
   "cell_type": "code",
   "execution_count": 28,
   "metadata": {},
   "outputs": [
    {
     "name": "stdout",
     "output_type": "stream",
     "text": [
      "Bonjour Michael\n"
     ]
    }
   ],
   "source": [
    "def greet(lang):\n",
    "    if lang == 'es':\n",
    "        return 'Hola'\n",
    "    elif lang == 'fr':\n",
    "        return 'Bonjour'\n",
    "    else:\n",
    "        return 'Hello'\n",
    "\n",
    "print(greet('fr'),'Michael')"
   ]
  },
  {
   "cell_type": "markdown",
   "metadata": {},
   "source": [
    "(Answer): 1\n",
    "\n",
    "1. Bonjour Michael\n",
    "2. def Michael\n",
    "3. Hello Michael\n",
    "4. Hola  \n",
    "   Bonjour  \n",
    "   Hello  "
   ]
  },
  {
   "cell_type": "markdown",
   "metadata": {},
   "source": [
    "#### 9. What does the following Python code print out?  (Note that this is a bit of a trick question and the code has what many would consider to be a flaw/bug - so read carefully)."
   ]
  },
  {
   "cell_type": "code",
   "execution_count": 29,
   "metadata": {},
   "outputs": [
    {
     "name": "stdout",
     "output_type": "stream",
     "text": [
      "2\n"
     ]
    }
   ],
   "source": [
    "def addtwo(a, b):\n",
    "    added = a + b\n",
    "    return a\n",
    "\n",
    "x = addtwo(2, 7)\n",
    "print(x)"
   ]
  },
  {
   "cell_type": "markdown",
   "metadata": {},
   "source": [
    "(Answer): 1\n",
    "\n",
    "1. 2\n",
    "2. 9\n",
    "3. 14\n",
    "4. 7\n",
    "\n",
    "#### 10. What is the most important benefit of writing your own functions?\n",
    "\n",
    "(Answer): 4\n",
    "\n",
    "1. Following the rule that whenever a program is more than 10 lines you must use a function\n",
    "2. Following the rule that no function can have more than 10 statements in it\n",
    "3. To avoid having more than 10 lines of sequential code without an indent or de-indent\n",
    "4. Avoiding writing the same non-trivial code more than once in your program"
   ]
  },
  {
   "cell_type": "markdown",
   "metadata": {},
   "source": [
    "# Assignment 4\n",
    "\n",
    "1. Write a program to prompt the user for hours and rate per hour using input to compute gross pay. Pay should be the normal rate for hours up to 40 and time-and-a-half for the hourly rate for all hours worked above 40 hours. Put the logic to do the computation of pay in a function called **computepay()** and use the function to do the computation. The function should return a value. Use 45 hours and a rate of 10.50 per hour to test the program (the pay should be 498.75). You should use **input** to read a string and **float()** to convert the string to a number. Do not worry about error checking the user input unless you want to - you can assume the user types numbers properly. Do not name your variable sum or use the sum() function."
   ]
  },
  {
   "cell_type": "code",
   "execution_count": 30,
   "metadata": {},
   "outputs": [
    {
     "name": "stdout",
     "output_type": "stream",
     "text": [
      "Enter Hours: 45\n",
      "Enter Rate: 10.50\n",
      "Pay 498.75\n"
     ]
    }
   ],
   "source": [
    "def computepay(h,r):\n",
    "    \n",
    "    if h <= 40:\n",
    "        pay = h * r\n",
    "    \n",
    "    else :\n",
    "        pay = 40 * r + (h - 40) * 1.5 * r\n",
    "    \n",
    "    return pay\n",
    "\n",
    "\n",
    "hrs = input(\"Enter Hours: \")\n",
    "h = float(hrs)\n",
    "\n",
    "rate = input(\"Enter Rate: \")\n",
    "r = float(rate)\n",
    "\n",
    "p = computepay(h, r)\n",
    "\n",
    "print(\"Pay\", p)"
   ]
  }
 ],
 "metadata": {
  "kernelspec": {
   "display_name": "Python 3",
   "language": "python",
   "name": "python3"
  },
  "language_info": {
   "codemirror_mode": {
    "name": "ipython",
    "version": 3
   },
   "file_extension": ".py",
   "mimetype": "text/x-python",
   "name": "python",
   "nbconvert_exporter": "python",
   "pygments_lexer": "ipython3",
   "version": "3.7.4"
  }
 },
 "nbformat": 4,
 "nbformat_minor": 2
}
