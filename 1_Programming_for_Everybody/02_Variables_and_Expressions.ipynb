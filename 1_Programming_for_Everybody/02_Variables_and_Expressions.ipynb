{
 "cells": [
  {
   "cell_type": "markdown",
   "metadata": {},
   "source": [
    "# Python for Everybody Specialization\n",
    "**Course 1: Programming for Everybody (Getting Started with Python)**\n",
    "* Offered by: University of Michigan"
   ]
  },
  {
   "cell_type": "markdown",
   "metadata": {},
   "source": [
    "# Course 1 Material\n",
    "\n",
    "* Week 1: Chapter 1 - Why We Program? \n",
    "* Week 2: Installing and Using Python\n",
    "* Week 3: Chapter 1 - Why We Program? (continued)\n",
    "* **Week 4: Chapter 2 - Variables and Expresssions**\n",
    "* Week 5: Chapter 3 - Conditional Code\n",
    "* Week 6: Chapter 4 - Functions\n",
    "* Week 7: Chapter 5 - Loops and Iternation"
   ]
  },
  {
   "cell_type": "markdown",
   "metadata": {},
   "source": [
    "# Week 4: Chapter 2 - Variables and Expressions"
   ]
  },
  {
   "cell_type": "markdown",
   "metadata": {},
   "source": [
    "# 2.1 Expressions Part 1"
   ]
  },
  {
   "cell_type": "markdown",
   "metadata": {},
   "source": [
    "### 1. Constants\n",
    "\n",
    "\"Fixed values\" such as Numbers, Letters and Strings are called \"constants,\" because their values does not change.\n",
    "\n",
    "##### Numeric Constants"
   ]
  },
  {
   "cell_type": "code",
   "execution_count": 1,
   "metadata": {},
   "outputs": [
    {
     "name": "stdout",
     "output_type": "stream",
     "text": [
      "123\n",
      "98.6\n"
     ]
    }
   ],
   "source": [
    "print(123)\n",
    "print(98.6)"
   ]
  },
  {
   "cell_type": "markdown",
   "metadata": {},
   "source": [
    "##### String Constants"
   ]
  },
  {
   "cell_type": "code",
   "execution_count": 2,
   "metadata": {},
   "outputs": [
    {
     "name": "stdout",
     "output_type": "stream",
     "text": [
      "Hello World\n",
      "Hello World\n"
     ]
    }
   ],
   "source": [
    "print(\"Hello World\")\n",
    "print('Hello World')"
   ]
  },
  {
   "cell_type": "markdown",
   "metadata": {},
   "source": [
    "### 2. Reserved Words\n",
    "\n",
    "Cannot be used as variable names/identifiers\n",
    "\n",
    "    False  class  return  is      finally\n",
    "    None   if     for     lambda  continue\n",
    "    True   def    from    while   nonlocal\n",
    "    and    del    global  not     with\n",
    "    as     elif   try     or      yield\n",
    "    assert else   import  pass\n",
    "    break  except in      raise"
   ]
  },
  {
   "cell_type": "markdown",
   "metadata": {},
   "source": [
    "### 3. Variables\n",
    "\n",
    "* Is a named place in the memory where a programmer can store data and later\n",
    "  retrieve the data using the Variable \"name\"\n",
    "* Programmers get to choose the names of the Variables\n",
    "* You can change the contents of a Variable in a later statement"
   ]
  },
  {
   "cell_type": "code",
   "execution_count": 6,
   "metadata": {},
   "outputs": [],
   "source": [
    "x = 12.2\n",
    "y = 14\n",
    "\n",
    "x = 100"
   ]
  },
  {
   "cell_type": "markdown",
   "metadata": {},
   "source": [
    "##### Variable Name Rules\n",
    "\n",
    "* Must start with a letter or underscore _\n",
    "* Must consist of letters, numbers and underscore\n",
    "* Case sensitive:\n",
    "\n",
    "    **Good:**\n",
    "    \n",
    "    Spam    eggs   spam23   _speed\n",
    "    \n",
    "    **Bad:**\n",
    "    \n",
    "    23spam  #sign  var.12\n",
    "    \n",
    "    **Different:**\n",
    "    \n",
    "    spam    Spam   SPAM"
   ]
  },
  {
   "cell_type": "markdown",
   "metadata": {},
   "source": [
    "### 4. Sentences or Lines"
   ]
  },
  {
   "cell_type": "code",
   "execution_count": 5,
   "metadata": {},
   "outputs": [
    {
     "name": "stdout",
     "output_type": "stream",
     "text": [
      "4\n"
     ]
    }
   ],
   "source": [
    "x = 2      # Assignment statement\n",
    "x = x + 2  # Assignment with Expression\n",
    "print(x)   # Print Statement"
   ]
  },
  {
   "cell_type": "markdown",
   "metadata": {},
   "source": [
    "### 5. Assignment Statements\n",
    "\n",
    "We assign a value to a variable using the assignment statement(=)\n",
    "\n",
    "An assignment statement consists of an \"expression on the right-hand side\" and a Variable to store the result"
   ]
  },
  {
   "cell_type": "markdown",
   "metadata": {},
   "source": [
    "# 2.2 Expressions Part 2"
   ]
  },
  {
   "cell_type": "markdown",
   "metadata": {},
   "source": [
    "# 2.3 Expressions Part 3"
   ]
  }
 ],
 "metadata": {
  "anaconda-cloud": {},
  "kernelspec": {
   "display_name": "Python 3",
   "language": "python",
   "name": "python3"
  },
  "language_info": {
   "codemirror_mode": {
    "name": "ipython",
    "version": 3
   },
   "file_extension": ".py",
   "mimetype": "text/x-python",
   "name": "python",
   "nbconvert_exporter": "python",
   "pygments_lexer": "ipython3",
   "version": "3.7.4"
  }
 },
 "nbformat": 4,
 "nbformat_minor": 4
}
